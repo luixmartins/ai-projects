{
 "cells": [
  {
   "cell_type": "markdown",
   "id": "a85bcf1f",
   "metadata": {},
   "source": [
    "### Import necesary libraries  "
   ]
  },
  {
   "cell_type": "code",
   "execution_count": 1,
   "id": "3bf0e30b",
   "metadata": {},
   "outputs": [],
   "source": [
    "import pandas as pd \n",
    "import numpy as np \n",
    "import matplotlib.pyplot as plt \n",
    "import seaborn as sns \n",
    "import os \n",
    "import sys \n",
    "\n",
    "# add the path to the module to the system path \n",
    "sys.path.insert(0, os.path.join('..', 'src'))\n",
    "\n",
    "from data_preprocessing import CleanerData\n",
    "\n",
    "#visual settings \n",
    "plt.style.use('seaborn-v0_8-whitegrid')\n",
    "\n",
    "sns.set_palette('Set2')"
   ]
  },
  {
   "cell_type": "markdown",
   "id": "79a62d97",
   "metadata": {},
   "source": [
    "### Import data "
   ]
  },
  {
   "cell_type": "code",
   "execution_count": 2,
   "id": "6ef586bc",
   "metadata": {},
   "outputs": [
    {
     "data": {
      "application/vnd.microsoft.datawrangler.viewer.v0+json": {
       "columns": [
        {
         "name": "index",
         "rawType": "int64",
         "type": "integer"
        },
        {
         "name": "id",
         "rawType": "int64",
         "type": "integer"
        },
        {
         "name": "url",
         "rawType": "object",
         "type": "string"
        },
        {
         "name": "region",
         "rawType": "object",
         "type": "string"
        },
        {
         "name": "region_url",
         "rawType": "object",
         "type": "string"
        },
        {
         "name": "price",
         "rawType": "int64",
         "type": "integer"
        },
        {
         "name": "year",
         "rawType": "float64",
         "type": "float"
        },
        {
         "name": "manufacturer",
         "rawType": "object",
         "type": "unknown"
        },
        {
         "name": "model",
         "rawType": "object",
         "type": "unknown"
        },
        {
         "name": "condition",
         "rawType": "object",
         "type": "unknown"
        },
        {
         "name": "cylinders",
         "rawType": "object",
         "type": "unknown"
        },
        {
         "name": "fuel",
         "rawType": "object",
         "type": "unknown"
        },
        {
         "name": "odometer",
         "rawType": "float64",
         "type": "float"
        },
        {
         "name": "title_status",
         "rawType": "object",
         "type": "unknown"
        },
        {
         "name": "transmission",
         "rawType": "object",
         "type": "unknown"
        },
        {
         "name": "VIN",
         "rawType": "object",
         "type": "unknown"
        },
        {
         "name": "drive",
         "rawType": "object",
         "type": "unknown"
        },
        {
         "name": "size",
         "rawType": "object",
         "type": "unknown"
        },
        {
         "name": "type",
         "rawType": "object",
         "type": "unknown"
        },
        {
         "name": "paint_color",
         "rawType": "object",
         "type": "unknown"
        },
        {
         "name": "image_url",
         "rawType": "object",
         "type": "unknown"
        },
        {
         "name": "description",
         "rawType": "object",
         "type": "unknown"
        },
        {
         "name": "county",
         "rawType": "float64",
         "type": "float"
        },
        {
         "name": "state",
         "rawType": "object",
         "type": "string"
        },
        {
         "name": "lat",
         "rawType": "float64",
         "type": "float"
        },
        {
         "name": "long",
         "rawType": "float64",
         "type": "float"
        },
        {
         "name": "posting_date",
         "rawType": "object",
         "type": "unknown"
        }
       ],
       "ref": "5771ff37-07ac-4362-9586-f94c6c1d99c6",
       "rows": [
        [
         "0",
         "7222695916",
         "https://prescott.craigslist.org/cto/d/prescott-2010-ford-ranger/7222695916.html",
         "prescott",
         "https://prescott.craigslist.org",
         "6000",
         null,
         null,
         null,
         null,
         null,
         null,
         null,
         null,
         null,
         null,
         null,
         null,
         null,
         null,
         null,
         null,
         null,
         "az",
         null,
         null,
         null
        ],
        [
         "1",
         "7218891961",
         "https://fayar.craigslist.org/ctd/d/bentonville-2017-hyundai-elantra-se/7218891961.html",
         "fayetteville",
         "https://fayar.craigslist.org",
         "11900",
         null,
         null,
         null,
         null,
         null,
         null,
         null,
         null,
         null,
         null,
         null,
         null,
         null,
         null,
         null,
         null,
         null,
         "ar",
         null,
         null,
         null
        ],
        [
         "2",
         "7221797935",
         "https://keys.craigslist.org/cto/d/summerland-key-2005-excursion/7221797935.html",
         "florida keys",
         "https://keys.craigslist.org",
         "21000",
         null,
         null,
         null,
         null,
         null,
         null,
         null,
         null,
         null,
         null,
         null,
         null,
         null,
         null,
         null,
         null,
         null,
         "fl",
         null,
         null,
         null
        ],
        [
         "3",
         "7222270760",
         "https://worcester.craigslist.org/cto/d/west-brookfield-2002-honda-odyssey-ex/7222270760.html",
         "worcester / central MA",
         "https://worcester.craigslist.org",
         "1500",
         null,
         null,
         null,
         null,
         null,
         null,
         null,
         null,
         null,
         null,
         null,
         null,
         null,
         null,
         null,
         null,
         null,
         "ma",
         null,
         null,
         null
        ],
        [
         "4",
         "7210384030",
         "https://greensboro.craigslist.org/cto/d/trinity-1965-chevrolet-truck/7210384030.html",
         "greensboro",
         "https://greensboro.craigslist.org",
         "4900",
         null,
         null,
         null,
         null,
         null,
         null,
         null,
         null,
         null,
         null,
         null,
         null,
         null,
         null,
         null,
         null,
         null,
         "nc",
         null,
         null,
         null
        ]
       ],
       "shape": {
        "columns": 26,
        "rows": 5
       }
      },
      "text/html": [
       "<div>\n",
       "<style scoped>\n",
       "    .dataframe tbody tr th:only-of-type {\n",
       "        vertical-align: middle;\n",
       "    }\n",
       "\n",
       "    .dataframe tbody tr th {\n",
       "        vertical-align: top;\n",
       "    }\n",
       "\n",
       "    .dataframe thead th {\n",
       "        text-align: right;\n",
       "    }\n",
       "</style>\n",
       "<table border=\"1\" class=\"dataframe\">\n",
       "  <thead>\n",
       "    <tr style=\"text-align: right;\">\n",
       "      <th></th>\n",
       "      <th>id</th>\n",
       "      <th>url</th>\n",
       "      <th>region</th>\n",
       "      <th>region_url</th>\n",
       "      <th>price</th>\n",
       "      <th>year</th>\n",
       "      <th>manufacturer</th>\n",
       "      <th>model</th>\n",
       "      <th>condition</th>\n",
       "      <th>cylinders</th>\n",
       "      <th>...</th>\n",
       "      <th>size</th>\n",
       "      <th>type</th>\n",
       "      <th>paint_color</th>\n",
       "      <th>image_url</th>\n",
       "      <th>description</th>\n",
       "      <th>county</th>\n",
       "      <th>state</th>\n",
       "      <th>lat</th>\n",
       "      <th>long</th>\n",
       "      <th>posting_date</th>\n",
       "    </tr>\n",
       "  </thead>\n",
       "  <tbody>\n",
       "    <tr>\n",
       "      <th>0</th>\n",
       "      <td>7222695916</td>\n",
       "      <td>https://prescott.craigslist.org/cto/d/prescott...</td>\n",
       "      <td>prescott</td>\n",
       "      <td>https://prescott.craigslist.org</td>\n",
       "      <td>6000</td>\n",
       "      <td>NaN</td>\n",
       "      <td>NaN</td>\n",
       "      <td>NaN</td>\n",
       "      <td>NaN</td>\n",
       "      <td>NaN</td>\n",
       "      <td>...</td>\n",
       "      <td>NaN</td>\n",
       "      <td>NaN</td>\n",
       "      <td>NaN</td>\n",
       "      <td>NaN</td>\n",
       "      <td>NaN</td>\n",
       "      <td>NaN</td>\n",
       "      <td>az</td>\n",
       "      <td>NaN</td>\n",
       "      <td>NaN</td>\n",
       "      <td>NaN</td>\n",
       "    </tr>\n",
       "    <tr>\n",
       "      <th>1</th>\n",
       "      <td>7218891961</td>\n",
       "      <td>https://fayar.craigslist.org/ctd/d/bentonville...</td>\n",
       "      <td>fayetteville</td>\n",
       "      <td>https://fayar.craigslist.org</td>\n",
       "      <td>11900</td>\n",
       "      <td>NaN</td>\n",
       "      <td>NaN</td>\n",
       "      <td>NaN</td>\n",
       "      <td>NaN</td>\n",
       "      <td>NaN</td>\n",
       "      <td>...</td>\n",
       "      <td>NaN</td>\n",
       "      <td>NaN</td>\n",
       "      <td>NaN</td>\n",
       "      <td>NaN</td>\n",
       "      <td>NaN</td>\n",
       "      <td>NaN</td>\n",
       "      <td>ar</td>\n",
       "      <td>NaN</td>\n",
       "      <td>NaN</td>\n",
       "      <td>NaN</td>\n",
       "    </tr>\n",
       "    <tr>\n",
       "      <th>2</th>\n",
       "      <td>7221797935</td>\n",
       "      <td>https://keys.craigslist.org/cto/d/summerland-k...</td>\n",
       "      <td>florida keys</td>\n",
       "      <td>https://keys.craigslist.org</td>\n",
       "      <td>21000</td>\n",
       "      <td>NaN</td>\n",
       "      <td>NaN</td>\n",
       "      <td>NaN</td>\n",
       "      <td>NaN</td>\n",
       "      <td>NaN</td>\n",
       "      <td>...</td>\n",
       "      <td>NaN</td>\n",
       "      <td>NaN</td>\n",
       "      <td>NaN</td>\n",
       "      <td>NaN</td>\n",
       "      <td>NaN</td>\n",
       "      <td>NaN</td>\n",
       "      <td>fl</td>\n",
       "      <td>NaN</td>\n",
       "      <td>NaN</td>\n",
       "      <td>NaN</td>\n",
       "    </tr>\n",
       "    <tr>\n",
       "      <th>3</th>\n",
       "      <td>7222270760</td>\n",
       "      <td>https://worcester.craigslist.org/cto/d/west-br...</td>\n",
       "      <td>worcester / central MA</td>\n",
       "      <td>https://worcester.craigslist.org</td>\n",
       "      <td>1500</td>\n",
       "      <td>NaN</td>\n",
       "      <td>NaN</td>\n",
       "      <td>NaN</td>\n",
       "      <td>NaN</td>\n",
       "      <td>NaN</td>\n",
       "      <td>...</td>\n",
       "      <td>NaN</td>\n",
       "      <td>NaN</td>\n",
       "      <td>NaN</td>\n",
       "      <td>NaN</td>\n",
       "      <td>NaN</td>\n",
       "      <td>NaN</td>\n",
       "      <td>ma</td>\n",
       "      <td>NaN</td>\n",
       "      <td>NaN</td>\n",
       "      <td>NaN</td>\n",
       "    </tr>\n",
       "    <tr>\n",
       "      <th>4</th>\n",
       "      <td>7210384030</td>\n",
       "      <td>https://greensboro.craigslist.org/cto/d/trinit...</td>\n",
       "      <td>greensboro</td>\n",
       "      <td>https://greensboro.craigslist.org</td>\n",
       "      <td>4900</td>\n",
       "      <td>NaN</td>\n",
       "      <td>NaN</td>\n",
       "      <td>NaN</td>\n",
       "      <td>NaN</td>\n",
       "      <td>NaN</td>\n",
       "      <td>...</td>\n",
       "      <td>NaN</td>\n",
       "      <td>NaN</td>\n",
       "      <td>NaN</td>\n",
       "      <td>NaN</td>\n",
       "      <td>NaN</td>\n",
       "      <td>NaN</td>\n",
       "      <td>nc</td>\n",
       "      <td>NaN</td>\n",
       "      <td>NaN</td>\n",
       "      <td>NaN</td>\n",
       "    </tr>\n",
       "  </tbody>\n",
       "</table>\n",
       "<p>5 rows × 26 columns</p>\n",
       "</div>"
      ],
      "text/plain": [
       "           id                                                url  \\\n",
       "0  7222695916  https://prescott.craigslist.org/cto/d/prescott...   \n",
       "1  7218891961  https://fayar.craigslist.org/ctd/d/bentonville...   \n",
       "2  7221797935  https://keys.craigslist.org/cto/d/summerland-k...   \n",
       "3  7222270760  https://worcester.craigslist.org/cto/d/west-br...   \n",
       "4  7210384030  https://greensboro.craigslist.org/cto/d/trinit...   \n",
       "\n",
       "                   region                         region_url  price  year  \\\n",
       "0                prescott    https://prescott.craigslist.org   6000   NaN   \n",
       "1            fayetteville       https://fayar.craigslist.org  11900   NaN   \n",
       "2            florida keys        https://keys.craigslist.org  21000   NaN   \n",
       "3  worcester / central MA   https://worcester.craigslist.org   1500   NaN   \n",
       "4              greensboro  https://greensboro.craigslist.org   4900   NaN   \n",
       "\n",
       "  manufacturer model condition cylinders  ... size  type paint_color  \\\n",
       "0          NaN   NaN       NaN       NaN  ...  NaN   NaN         NaN   \n",
       "1          NaN   NaN       NaN       NaN  ...  NaN   NaN         NaN   \n",
       "2          NaN   NaN       NaN       NaN  ...  NaN   NaN         NaN   \n",
       "3          NaN   NaN       NaN       NaN  ...  NaN   NaN         NaN   \n",
       "4          NaN   NaN       NaN       NaN  ...  NaN   NaN         NaN   \n",
       "\n",
       "  image_url description county state lat long posting_date  \n",
       "0       NaN         NaN    NaN    az NaN  NaN          NaN  \n",
       "1       NaN         NaN    NaN    ar NaN  NaN          NaN  \n",
       "2       NaN         NaN    NaN    fl NaN  NaN          NaN  \n",
       "3       NaN         NaN    NaN    ma NaN  NaN          NaN  \n",
       "4       NaN         NaN    NaN    nc NaN  NaN          NaN  \n",
       "\n",
       "[5 rows x 26 columns]"
      ]
     },
     "execution_count": 2,
     "metadata": {},
     "output_type": "execute_result"
    }
   ],
   "source": [
    "base_path = os.path.join('..', 'data', 'raw')\n",
    "file_name = 'vehicles.csv'\n",
    "\n",
    "path = os.path.join(base_path, file_name)\n",
    "\n",
    "df = pd.read_csv(path)\n",
    "\n",
    "df.head()"
   ]
  },
  {
   "cell_type": "markdown",
   "id": "1c068b81",
   "metadata": {},
   "source": [
    "### Initial data exploration "
   ]
  },
  {
   "cell_type": "code",
   "execution_count": 3,
   "id": "4b55f609",
   "metadata": {},
   "outputs": [
    {
     "name": "stdout",
     "output_type": "stream",
     "text": [
      "Shape of the data: (426880, 26)\n"
     ]
    }
   ],
   "source": [
    "print('Shape of the data:', df.shape)"
   ]
  },
  {
   "cell_type": "code",
   "execution_count": 4,
   "id": "62c8df5c",
   "metadata": {},
   "outputs": [
    {
     "name": "stdout",
     "output_type": "stream",
     "text": [
      "<class 'pandas.core.frame.DataFrame'>\n",
      "RangeIndex: 426880 entries, 0 to 426879\n",
      "Data columns (total 26 columns):\n",
      " #   Column        Non-Null Count   Dtype  \n",
      "---  ------        --------------   -----  \n",
      " 0   id            426880 non-null  int64  \n",
      " 1   url           426880 non-null  object \n",
      " 2   region        426880 non-null  object \n",
      " 3   region_url    426880 non-null  object \n",
      " 4   price         426880 non-null  int64  \n",
      " 5   year          425675 non-null  float64\n",
      " 6   manufacturer  409234 non-null  object \n",
      " 7   model         421603 non-null  object \n",
      " 8   condition     252776 non-null  object \n",
      " 9   cylinders     249202 non-null  object \n",
      " 10  fuel          423867 non-null  object \n",
      " 11  odometer      422480 non-null  float64\n",
      " 12  title_status  418638 non-null  object \n",
      " 13  transmission  424324 non-null  object \n",
      " 14  VIN           265838 non-null  object \n",
      " 15  drive         296313 non-null  object \n",
      " 16  size          120519 non-null  object \n",
      " 17  type          334022 non-null  object \n",
      " 18  paint_color   296677 non-null  object \n",
      " 19  image_url     426812 non-null  object \n",
      " 20  description   426810 non-null  object \n",
      " 21  county        0 non-null       float64\n",
      " 22  state         426880 non-null  object \n",
      " 23  lat           420331 non-null  float64\n",
      " 24  long          420331 non-null  float64\n",
      " 25  posting_date  426812 non-null  object \n",
      "dtypes: float64(5), int64(2), object(19)\n",
      "memory usage: 84.7+ MB\n"
     ]
    }
   ],
   "source": [
    "# info about data \n",
    "df.info()"
   ]
  },
  {
   "cell_type": "code",
   "execution_count": 5,
   "id": "cf4982ae",
   "metadata": {},
   "outputs": [
    {
     "data": {
      "application/vnd.microsoft.datawrangler.viewer.v0+json": {
       "columns": [
        {
         "name": "index",
         "rawType": "object",
         "type": "string"
        },
        {
         "name": "id",
         "rawType": "float64",
         "type": "float"
        },
        {
         "name": "price",
         "rawType": "float64",
         "type": "float"
        },
        {
         "name": "year",
         "rawType": "float64",
         "type": "float"
        },
        {
         "name": "odometer",
         "rawType": "float64",
         "type": "float"
        },
        {
         "name": "county",
         "rawType": "float64",
         "type": "float"
        },
        {
         "name": "lat",
         "rawType": "float64",
         "type": "float"
        },
        {
         "name": "long",
         "rawType": "float64",
         "type": "float"
        }
       ],
       "ref": "a28a23c1-1f2a-4c63-8255-20146eba4a1a",
       "rows": [
        [
         "count",
         "426880.0",
         "426880.0",
         "425675.0",
         "422480.0",
         "0.0",
         "420331.0",
         "420331.0"
        ],
        [
         "mean",
         "7311486634.224333",
         "75199.0331873126",
         "2011.23519116697",
         "98043.33144290854",
         null,
         "38.49394011544711",
         "-94.74859891838095"
        ],
        [
         "std",
         "4473170.412559299",
         "12182282.173597954",
         "9.452119581503126",
         "213881.5007979891",
         null,
         "5.841533491311617",
         "18.365462425880065"
        ],
        [
         "min",
         "7207408119.0",
         "0.0",
         "1900.0",
         "0.0",
         null,
         "-84.122245",
         "-159.827728"
        ],
        [
         "25%",
         "7308143339.25",
         "5900.0",
         "2008.0",
         "37704.0",
         null,
         "34.6019",
         "-111.939847"
        ],
        [
         "50%",
         "7312620821.0",
         "13950.0",
         "2013.0",
         "85548.0",
         null,
         "39.1501",
         "-88.4326"
        ],
        [
         "75%",
         "7315253543.5",
         "26485.75",
         "2017.0",
         "133542.5",
         null,
         "42.3989",
         "-80.832039"
        ],
        [
         "max",
         "7317101084.0",
         "3736928711.0",
         "2022.0",
         "10000000.0",
         null,
         "82.390818",
         "173.885502"
        ]
       ],
       "shape": {
        "columns": 7,
        "rows": 8
       }
      },
      "text/html": [
       "<div>\n",
       "<style scoped>\n",
       "    .dataframe tbody tr th:only-of-type {\n",
       "        vertical-align: middle;\n",
       "    }\n",
       "\n",
       "    .dataframe tbody tr th {\n",
       "        vertical-align: top;\n",
       "    }\n",
       "\n",
       "    .dataframe thead th {\n",
       "        text-align: right;\n",
       "    }\n",
       "</style>\n",
       "<table border=\"1\" class=\"dataframe\">\n",
       "  <thead>\n",
       "    <tr style=\"text-align: right;\">\n",
       "      <th></th>\n",
       "      <th>id</th>\n",
       "      <th>price</th>\n",
       "      <th>year</th>\n",
       "      <th>odometer</th>\n",
       "      <th>county</th>\n",
       "      <th>lat</th>\n",
       "      <th>long</th>\n",
       "    </tr>\n",
       "  </thead>\n",
       "  <tbody>\n",
       "    <tr>\n",
       "      <th>count</th>\n",
       "      <td>4.268800e+05</td>\n",
       "      <td>4.268800e+05</td>\n",
       "      <td>425675.000000</td>\n",
       "      <td>4.224800e+05</td>\n",
       "      <td>0.0</td>\n",
       "      <td>420331.000000</td>\n",
       "      <td>420331.000000</td>\n",
       "    </tr>\n",
       "    <tr>\n",
       "      <th>mean</th>\n",
       "      <td>7.311487e+09</td>\n",
       "      <td>7.519903e+04</td>\n",
       "      <td>2011.235191</td>\n",
       "      <td>9.804333e+04</td>\n",
       "      <td>NaN</td>\n",
       "      <td>38.493940</td>\n",
       "      <td>-94.748599</td>\n",
       "    </tr>\n",
       "    <tr>\n",
       "      <th>std</th>\n",
       "      <td>4.473170e+06</td>\n",
       "      <td>1.218228e+07</td>\n",
       "      <td>9.452120</td>\n",
       "      <td>2.138815e+05</td>\n",
       "      <td>NaN</td>\n",
       "      <td>5.841533</td>\n",
       "      <td>18.365462</td>\n",
       "    </tr>\n",
       "    <tr>\n",
       "      <th>min</th>\n",
       "      <td>7.207408e+09</td>\n",
       "      <td>0.000000e+00</td>\n",
       "      <td>1900.000000</td>\n",
       "      <td>0.000000e+00</td>\n",
       "      <td>NaN</td>\n",
       "      <td>-84.122245</td>\n",
       "      <td>-159.827728</td>\n",
       "    </tr>\n",
       "    <tr>\n",
       "      <th>25%</th>\n",
       "      <td>7.308143e+09</td>\n",
       "      <td>5.900000e+03</td>\n",
       "      <td>2008.000000</td>\n",
       "      <td>3.770400e+04</td>\n",
       "      <td>NaN</td>\n",
       "      <td>34.601900</td>\n",
       "      <td>-111.939847</td>\n",
       "    </tr>\n",
       "    <tr>\n",
       "      <th>50%</th>\n",
       "      <td>7.312621e+09</td>\n",
       "      <td>1.395000e+04</td>\n",
       "      <td>2013.000000</td>\n",
       "      <td>8.554800e+04</td>\n",
       "      <td>NaN</td>\n",
       "      <td>39.150100</td>\n",
       "      <td>-88.432600</td>\n",
       "    </tr>\n",
       "    <tr>\n",
       "      <th>75%</th>\n",
       "      <td>7.315254e+09</td>\n",
       "      <td>2.648575e+04</td>\n",
       "      <td>2017.000000</td>\n",
       "      <td>1.335425e+05</td>\n",
       "      <td>NaN</td>\n",
       "      <td>42.398900</td>\n",
       "      <td>-80.832039</td>\n",
       "    </tr>\n",
       "    <tr>\n",
       "      <th>max</th>\n",
       "      <td>7.317101e+09</td>\n",
       "      <td>3.736929e+09</td>\n",
       "      <td>2022.000000</td>\n",
       "      <td>1.000000e+07</td>\n",
       "      <td>NaN</td>\n",
       "      <td>82.390818</td>\n",
       "      <td>173.885502</td>\n",
       "    </tr>\n",
       "  </tbody>\n",
       "</table>\n",
       "</div>"
      ],
      "text/plain": [
       "                 id         price           year      odometer  county  \\\n",
       "count  4.268800e+05  4.268800e+05  425675.000000  4.224800e+05     0.0   \n",
       "mean   7.311487e+09  7.519903e+04    2011.235191  9.804333e+04     NaN   \n",
       "std    4.473170e+06  1.218228e+07       9.452120  2.138815e+05     NaN   \n",
       "min    7.207408e+09  0.000000e+00    1900.000000  0.000000e+00     NaN   \n",
       "25%    7.308143e+09  5.900000e+03    2008.000000  3.770400e+04     NaN   \n",
       "50%    7.312621e+09  1.395000e+04    2013.000000  8.554800e+04     NaN   \n",
       "75%    7.315254e+09  2.648575e+04    2017.000000  1.335425e+05     NaN   \n",
       "max    7.317101e+09  3.736929e+09    2022.000000  1.000000e+07     NaN   \n",
       "\n",
       "                 lat           long  \n",
       "count  420331.000000  420331.000000  \n",
       "mean       38.493940     -94.748599  \n",
       "std         5.841533      18.365462  \n",
       "min       -84.122245    -159.827728  \n",
       "25%        34.601900    -111.939847  \n",
       "50%        39.150100     -88.432600  \n",
       "75%        42.398900     -80.832039  \n",
       "max        82.390818     173.885502  "
      ]
     },
     "execution_count": 5,
     "metadata": {},
     "output_type": "execute_result"
    }
   ],
   "source": [
    "#numeric statistics \n",
    "df.describe()"
   ]
  },
  {
   "cell_type": "code",
   "execution_count": 6,
   "id": "55493cb9",
   "metadata": {},
   "outputs": [
    {
     "data": {
      "application/vnd.microsoft.datawrangler.viewer.v0+json": {
       "columns": [
        {
         "name": "index",
         "rawType": "object",
         "type": "string"
        },
        {
         "name": "0",
         "rawType": "int64",
         "type": "integer"
        }
       ],
       "ref": "a3f46c6c-d0b6-40c5-a0a5-b79ac0330f46",
       "rows": [
        [
         "id",
         "0"
        ],
        [
         "url",
         "0"
        ],
        [
         "region",
         "0"
        ],
        [
         "region_url",
         "0"
        ],
        [
         "price",
         "0"
        ],
        [
         "year",
         "1205"
        ],
        [
         "manufacturer",
         "17646"
        ],
        [
         "model",
         "5277"
        ],
        [
         "condition",
         "174104"
        ],
        [
         "cylinders",
         "177678"
        ],
        [
         "fuel",
         "3013"
        ],
        [
         "odometer",
         "4400"
        ],
        [
         "title_status",
         "8242"
        ],
        [
         "transmission",
         "2556"
        ],
        [
         "VIN",
         "161042"
        ],
        [
         "drive",
         "130567"
        ],
        [
         "size",
         "306361"
        ],
        [
         "type",
         "92858"
        ],
        [
         "paint_color",
         "130203"
        ],
        [
         "image_url",
         "68"
        ],
        [
         "description",
         "70"
        ],
        [
         "county",
         "426880"
        ],
        [
         "state",
         "0"
        ],
        [
         "lat",
         "6549"
        ],
        [
         "long",
         "6549"
        ],
        [
         "posting_date",
         "68"
        ]
       ],
       "shape": {
        "columns": 1,
        "rows": 26
       }
      },
      "text/plain": [
       "id                   0\n",
       "url                  0\n",
       "region               0\n",
       "region_url           0\n",
       "price                0\n",
       "year              1205\n",
       "manufacturer     17646\n",
       "model             5277\n",
       "condition       174104\n",
       "cylinders       177678\n",
       "fuel              3013\n",
       "odometer          4400\n",
       "title_status      8242\n",
       "transmission      2556\n",
       "VIN             161042\n",
       "drive           130567\n",
       "size            306361\n",
       "type             92858\n",
       "paint_color     130203\n",
       "image_url           68\n",
       "description         70\n",
       "county          426880\n",
       "state                0\n",
       "lat               6549\n",
       "long              6549\n",
       "posting_date        68\n",
       "dtype: int64"
      ]
     },
     "execution_count": 6,
     "metadata": {},
     "output_type": "execute_result"
    }
   ],
   "source": [
    "# check for missing values \n",
    "df.isnull().sum()"
   ]
  },
  {
   "cell_type": "code",
   "execution_count": 7,
   "id": "e6048731",
   "metadata": {},
   "outputs": [
    {
     "data": {
      "text/plain": [
       "np.int64(0)"
      ]
     },
     "execution_count": 7,
     "metadata": {},
     "output_type": "execute_result"
    }
   ],
   "source": [
    "#check for duplicates \n",
    "df.duplicated().sum()"
   ]
  },
  {
   "cell_type": "markdown",
   "id": "d6cf3a10",
   "metadata": {},
   "source": [
    "### Cleaning the data"
   ]
  },
  {
   "cell_type": "code",
   "execution_count": 8,
   "id": "bd839038",
   "metadata": {},
   "outputs": [
    {
     "name": "stdout",
     "output_type": "stream",
     "text": [
      "<class 'pandas.core.frame.DataFrame'>\n",
      "RangeIndex: 426880 entries, 0 to 426879\n",
      "Data columns (total 26 columns):\n",
      " #   Column        Non-Null Count   Dtype   \n",
      "---  ------        --------------   -----   \n",
      " 0   id            426880 non-null  int64   \n",
      " 1   url           426880 non-null  category\n",
      " 2   region        426880 non-null  category\n",
      " 3   region_url    426880 non-null  category\n",
      " 4   price         426880 non-null  int64   \n",
      " 5   year          425675 non-null  float64 \n",
      " 6   manufacturer  409234 non-null  category\n",
      " 7   model         421603 non-null  category\n",
      " 8   condition     252776 non-null  category\n",
      " 9   cylinders     249202 non-null  category\n",
      " 10  fuel          423867 non-null  category\n",
      " 11  odometer      422480 non-null  float64 \n",
      " 12  title_status  418638 non-null  category\n",
      " 13  transmission  424324 non-null  category\n",
      " 14  VIN           265838 non-null  category\n",
      " 15  drive         296313 non-null  category\n",
      " 16  size          120519 non-null  category\n",
      " 17  type          334022 non-null  category\n",
      " 18  paint_color   296677 non-null  category\n",
      " 19  image_url     426812 non-null  category\n",
      " 20  description   426810 non-null  category\n",
      " 21  county        0 non-null       float64 \n",
      " 22  state         426880 non-null  category\n",
      " 23  lat           420331 non-null  float64 \n",
      " 24  long          420331 non-null  float64 \n",
      " 25  posting_date  426812 non-null  category\n",
      "dtypes: category(19), float64(5), int64(2)\n",
      "memory usage: 95.2 MB\n"
     ]
    }
   ],
   "source": [
    "# convert object columns to category \n",
    "\n",
    "for col in df.columns: \n",
    "    if df[col].dtype == 'object': \n",
    "        df[col] = df[col].astype('category')\n",
    "\n",
    "df.info()\n",
    "    "
   ]
  },
  {
   "cell_type": "code",
   "execution_count": 9,
   "id": "b0a694ba",
   "metadata": {},
   "outputs": [
    {
     "name": "stdout",
     "output_type": "stream",
     "text": [
      "Max and min price of the cars: Max=3736928711 - Min=0\n",
      "Shape of the data: (426880, 26)\n"
     ]
    }
   ],
   "source": [
    "# check the max and min price of the cars\n",
    "\n",
    "print(f\"Max and min price of the cars: Max={df['price'].max()} - Min={df['price'].min()}\" )\n",
    "print(\"Shape of the data:\", df.shape) "
   ]
  },
  {
   "cell_type": "code",
   "execution_count": 10,
   "id": "29ac964b",
   "metadata": {},
   "outputs": [
    {
     "name": "stdout",
     "output_type": "stream",
     "text": [
      "New max and min price of the cars: Max=100000 - Min=1000\n",
      "New shape of the data: (379910, 26)\n"
     ]
    }
   ],
   "source": [
    "# Cleaning the data, we will remove the outliers from the price column, and select only the cars with a price between 1000 and 100000\n",
    "\n",
    "df = CleanerData.remove_outliers_with_min_max(df, 'price', 1000, 100000)\n",
    "\n",
    "print(f\"New max and min price of the cars: Max={df['price'].max()} - Min={df['price'].min()}\" )\n",
    "print(\"New shape of the data:\", df.shape) "
   ]
  },
  {
   "cell_type": "code",
   "execution_count": 12,
   "id": "05973255",
   "metadata": {},
   "outputs": [
    {
     "name": "stdout",
     "output_type": "stream",
     "text": [
      "Nan values in the year column: 0\n",
      "New shape of the data: (355127, 26)\n"
     ]
    }
   ],
   "source": [
    "# Select only the cars with a year bigger than 2000 \n",
    "\n",
    "df = CleanerData.remove_outliers_with_min_max(df, 'year', 2000, 2025)\n",
    "\n",
    "print(\"Nan values in the year column:\", df['year'].isnull().sum())\n",
    "print(\"New shape of the data:\", df.shape) "
   ]
  },
  {
   "cell_type": "code",
   "execution_count": 13,
   "id": "60b4b1be",
   "metadata": {},
   "outputs": [
    {
     "data": {
      "text/plain": [
       "dtype('int64')"
      ]
     },
     "execution_count": 13,
     "metadata": {},
     "output_type": "execute_result"
    }
   ],
   "source": [
    "# Convert the year column to int \n",
    "df['year'] = df['year'].astype('int')\n",
    "\n",
    "df['year'].dtype"
   ]
  },
  {
   "cell_type": "code",
   "execution_count": 15,
   "id": "e8b20be2",
   "metadata": {},
   "outputs": [
    {
     "name": "stdout",
     "output_type": "stream",
     "text": [
      "Nan values in the odometer column: 0\n",
      "New shape of the data: (353168, 26)\n"
     ]
    }
   ],
   "source": [
    "# Remove nan values from the odometer column \n",
    "df = df[df['odometer'].notna()]\n",
    "\n",
    "print(\"Nan values in the odometer column:\", df['odometer'].isnull().sum())\n",
    "print(\"New shape of the data:\", df.shape) "
   ]
  },
  {
   "cell_type": "code",
   "execution_count": 16,
   "id": "13891717",
   "metadata": {},
   "outputs": [
    {
     "name": "stdout",
     "output_type": "stream",
     "text": [
      "Max and min odometer of the cars: Max=10000000.0 - Min=0.0\n"
     ]
    }
   ],
   "source": [
    "#Check the max and min odometer of the cars \n",
    "print(f\"Max and min odometer of the cars: Max={df['odometer'].max()} - Min={df['odometer'].min()}\" )"
   ]
  },
  {
   "cell_type": "code",
   "execution_count": 17,
   "id": "d96ac976",
   "metadata": {},
   "outputs": [
    {
     "name": "stdout",
     "output_type": "stream",
     "text": [
      "Nan values in the data: id                   0\n",
      "url                  0\n",
      "region               0\n",
      "region_url           0\n",
      "price                0\n",
      "year                 0\n",
      "manufacturer     10637\n",
      "model             2946\n",
      "condition       134999\n",
      "cylinders       147019\n",
      "fuel              2070\n",
      "odometer             0\n",
      "title_status      5956\n",
      "transmission      1485\n",
      "VIN             125722\n",
      "drive           106647\n",
      "size            256682\n",
      "type             71759\n",
      "paint_color      99831\n",
      "image_url            0\n",
      "description          2\n",
      "county          353168\n",
      "state                0\n",
      "lat               3319\n",
      "long              3319\n",
      "posting_date         0\n",
      "dtype: int64\n"
     ]
    }
   ],
   "source": [
    "# we'll check if other columns have Nan values \n",
    "\n",
    "print(\"Nan values in the data:\", df.isnull().sum())"
   ]
  },
  {
   "cell_type": "code",
   "execution_count": 18,
   "id": "bbed2bd6",
   "metadata": {},
   "outputs": [
    {
     "data": {
      "application/vnd.microsoft.datawrangler.viewer.v0+json": {
       "columns": [
        {
         "name": "index",
         "rawType": "int64",
         "type": "integer"
        },
        {
         "name": "price",
         "rawType": "int64",
         "type": "integer"
        },
        {
         "name": "year",
         "rawType": "int64",
         "type": "integer"
        },
        {
         "name": "manufacturer",
         "rawType": "category",
         "type": "unknown"
        },
        {
         "name": "model",
         "rawType": "category",
         "type": "unknown"
        },
        {
         "name": "condition",
         "rawType": "category",
         "type": "unknown"
        },
        {
         "name": "cylinders",
         "rawType": "category",
         "type": "unknown"
        },
        {
         "name": "fuel",
         "rawType": "category",
         "type": "unknown"
        },
        {
         "name": "odometer",
         "rawType": "float64",
         "type": "float"
        },
        {
         "name": "title_status",
         "rawType": "category",
         "type": "unknown"
        },
        {
         "name": "transmission",
         "rawType": "category",
         "type": "unknown"
        },
        {
         "name": "drive",
         "rawType": "category",
         "type": "unknown"
        },
        {
         "name": "size",
         "rawType": "category",
         "type": "unknown"
        },
        {
         "name": "type",
         "rawType": "category",
         "type": "unknown"
        },
        {
         "name": "paint_color",
         "rawType": "category",
         "type": "unknown"
        },
        {
         "name": "lat",
         "rawType": "float64",
         "type": "float"
        },
        {
         "name": "long",
         "rawType": "float64",
         "type": "float"
        }
       ],
       "ref": "ead134af-2cc4-421e-957e-ec9fd953e39e",
       "rows": [
        [
         "27",
         "33590",
         "2014",
         "gmc",
         "sierra 1500 crew cab slt",
         "good",
         "8 cylinders",
         "gas",
         "57923.0",
         "clean",
         "other",
         null,
         null,
         "pickup",
         "white",
         "32.59",
         "-85.48"
        ],
        [
         "28",
         "22590",
         "2010",
         "chevrolet",
         "silverado 1500",
         "good",
         "8 cylinders",
         "gas",
         "71229.0",
         "clean",
         "other",
         null,
         null,
         "pickup",
         "blue",
         "32.59",
         "-85.48"
        ],
        [
         "29",
         "39590",
         "2020",
         "chevrolet",
         "silverado 1500 crew",
         "good",
         "8 cylinders",
         "gas",
         "19160.0",
         "clean",
         "other",
         null,
         null,
         "pickup",
         "red",
         "32.59",
         "-85.48"
        ],
        [
         "30",
         "30990",
         "2017",
         "toyota",
         "tundra double cab sr",
         "good",
         "8 cylinders",
         "gas",
         "41124.0",
         "clean",
         "other",
         null,
         null,
         "pickup",
         "red",
         "32.59",
         "-85.48"
        ],
        [
         "31",
         "15000",
         "2013",
         "ford",
         "f-150 xlt",
         "excellent",
         "6 cylinders",
         "gas",
         "128000.0",
         "clean",
         "automatic",
         "rwd",
         "full-size",
         "truck",
         "black",
         "32.592",
         "-85.5189"
        ]
       ],
       "shape": {
        "columns": 16,
        "rows": 5
       }
      },
      "text/html": [
       "<div>\n",
       "<style scoped>\n",
       "    .dataframe tbody tr th:only-of-type {\n",
       "        vertical-align: middle;\n",
       "    }\n",
       "\n",
       "    .dataframe tbody tr th {\n",
       "        vertical-align: top;\n",
       "    }\n",
       "\n",
       "    .dataframe thead th {\n",
       "        text-align: right;\n",
       "    }\n",
       "</style>\n",
       "<table border=\"1\" class=\"dataframe\">\n",
       "  <thead>\n",
       "    <tr style=\"text-align: right;\">\n",
       "      <th></th>\n",
       "      <th>price</th>\n",
       "      <th>year</th>\n",
       "      <th>manufacturer</th>\n",
       "      <th>model</th>\n",
       "      <th>condition</th>\n",
       "      <th>cylinders</th>\n",
       "      <th>fuel</th>\n",
       "      <th>odometer</th>\n",
       "      <th>title_status</th>\n",
       "      <th>transmission</th>\n",
       "      <th>drive</th>\n",
       "      <th>size</th>\n",
       "      <th>type</th>\n",
       "      <th>paint_color</th>\n",
       "      <th>lat</th>\n",
       "      <th>long</th>\n",
       "    </tr>\n",
       "  </thead>\n",
       "  <tbody>\n",
       "    <tr>\n",
       "      <th>27</th>\n",
       "      <td>33590</td>\n",
       "      <td>2014</td>\n",
       "      <td>gmc</td>\n",
       "      <td>sierra 1500 crew cab slt</td>\n",
       "      <td>good</td>\n",
       "      <td>8 cylinders</td>\n",
       "      <td>gas</td>\n",
       "      <td>57923.0</td>\n",
       "      <td>clean</td>\n",
       "      <td>other</td>\n",
       "      <td>NaN</td>\n",
       "      <td>NaN</td>\n",
       "      <td>pickup</td>\n",
       "      <td>white</td>\n",
       "      <td>32.590</td>\n",
       "      <td>-85.4800</td>\n",
       "    </tr>\n",
       "    <tr>\n",
       "      <th>28</th>\n",
       "      <td>22590</td>\n",
       "      <td>2010</td>\n",
       "      <td>chevrolet</td>\n",
       "      <td>silverado 1500</td>\n",
       "      <td>good</td>\n",
       "      <td>8 cylinders</td>\n",
       "      <td>gas</td>\n",
       "      <td>71229.0</td>\n",
       "      <td>clean</td>\n",
       "      <td>other</td>\n",
       "      <td>NaN</td>\n",
       "      <td>NaN</td>\n",
       "      <td>pickup</td>\n",
       "      <td>blue</td>\n",
       "      <td>32.590</td>\n",
       "      <td>-85.4800</td>\n",
       "    </tr>\n",
       "    <tr>\n",
       "      <th>29</th>\n",
       "      <td>39590</td>\n",
       "      <td>2020</td>\n",
       "      <td>chevrolet</td>\n",
       "      <td>silverado 1500 crew</td>\n",
       "      <td>good</td>\n",
       "      <td>8 cylinders</td>\n",
       "      <td>gas</td>\n",
       "      <td>19160.0</td>\n",
       "      <td>clean</td>\n",
       "      <td>other</td>\n",
       "      <td>NaN</td>\n",
       "      <td>NaN</td>\n",
       "      <td>pickup</td>\n",
       "      <td>red</td>\n",
       "      <td>32.590</td>\n",
       "      <td>-85.4800</td>\n",
       "    </tr>\n",
       "    <tr>\n",
       "      <th>30</th>\n",
       "      <td>30990</td>\n",
       "      <td>2017</td>\n",
       "      <td>toyota</td>\n",
       "      <td>tundra double cab sr</td>\n",
       "      <td>good</td>\n",
       "      <td>8 cylinders</td>\n",
       "      <td>gas</td>\n",
       "      <td>41124.0</td>\n",
       "      <td>clean</td>\n",
       "      <td>other</td>\n",
       "      <td>NaN</td>\n",
       "      <td>NaN</td>\n",
       "      <td>pickup</td>\n",
       "      <td>red</td>\n",
       "      <td>32.590</td>\n",
       "      <td>-85.4800</td>\n",
       "    </tr>\n",
       "    <tr>\n",
       "      <th>31</th>\n",
       "      <td>15000</td>\n",
       "      <td>2013</td>\n",
       "      <td>ford</td>\n",
       "      <td>f-150 xlt</td>\n",
       "      <td>excellent</td>\n",
       "      <td>6 cylinders</td>\n",
       "      <td>gas</td>\n",
       "      <td>128000.0</td>\n",
       "      <td>clean</td>\n",
       "      <td>automatic</td>\n",
       "      <td>rwd</td>\n",
       "      <td>full-size</td>\n",
       "      <td>truck</td>\n",
       "      <td>black</td>\n",
       "      <td>32.592</td>\n",
       "      <td>-85.5189</td>\n",
       "    </tr>\n",
       "  </tbody>\n",
       "</table>\n",
       "</div>"
      ],
      "text/plain": [
       "    price  year manufacturer                     model  condition  \\\n",
       "27  33590  2014          gmc  sierra 1500 crew cab slt       good   \n",
       "28  22590  2010    chevrolet            silverado 1500       good   \n",
       "29  39590  2020    chevrolet       silverado 1500 crew       good   \n",
       "30  30990  2017       toyota      tundra double cab sr       good   \n",
       "31  15000  2013         ford                 f-150 xlt  excellent   \n",
       "\n",
       "      cylinders fuel  odometer title_status transmission drive       size  \\\n",
       "27  8 cylinders  gas   57923.0        clean        other   NaN        NaN   \n",
       "28  8 cylinders  gas   71229.0        clean        other   NaN        NaN   \n",
       "29  8 cylinders  gas   19160.0        clean        other   NaN        NaN   \n",
       "30  8 cylinders  gas   41124.0        clean        other   NaN        NaN   \n",
       "31  6 cylinders  gas  128000.0        clean    automatic   rwd  full-size   \n",
       "\n",
       "      type paint_color     lat     long  \n",
       "27  pickup       white  32.590 -85.4800  \n",
       "28  pickup        blue  32.590 -85.4800  \n",
       "29  pickup         red  32.590 -85.4800  \n",
       "30  pickup         red  32.590 -85.4800  \n",
       "31   truck       black  32.592 -85.5189  "
      ]
     },
     "execution_count": 18,
     "metadata": {},
     "output_type": "execute_result"
    }
   ],
   "source": [
    "# we still have a lot of columns with nan values, initially let's drop not important columns \n",
    "df = df.drop(columns=['id', 'url', 'region', 'region_url', 'image_url', 'description', 'county', 'state', 'posting_date', 'VIN'])\n",
    "\n",
    "df.head()"
   ]
  },
  {
   "cell_type": "code",
   "execution_count": 20,
   "id": "5813d87c",
   "metadata": {},
   "outputs": [
    {
     "data": {
      "application/vnd.microsoft.datawrangler.viewer.v0+json": {
       "columns": [
        {
         "name": "index",
         "rawType": "object",
         "type": "string"
        },
        {
         "name": "0",
         "rawType": "int64",
         "type": "integer"
        }
       ],
       "ref": "6bd46690-76dc-477b-a5de-24795b38d717",
       "rows": [
        [
         "price",
         "0"
        ],
        [
         "year",
         "0"
        ],
        [
         "manufacturer",
         "10637"
        ],
        [
         "model",
         "2946"
        ],
        [
         "condition",
         "134999"
        ],
        [
         "cylinders",
         "147019"
        ],
        [
         "fuel",
         "2070"
        ],
        [
         "odometer",
         "0"
        ],
        [
         "title_status",
         "5956"
        ],
        [
         "transmission",
         "1485"
        ],
        [
         "drive",
         "106647"
        ],
        [
         "size",
         "256682"
        ],
        [
         "type",
         "71759"
        ],
        [
         "paint_color",
         "99831"
        ],
        [
         "lat",
         "3319"
        ],
        [
         "long",
         "3319"
        ]
       ],
       "shape": {
        "columns": 1,
        "rows": 16
       }
      },
      "text/plain": [
       "price                0\n",
       "year                 0\n",
       "manufacturer     10637\n",
       "model             2946\n",
       "condition       134999\n",
       "cylinders       147019\n",
       "fuel              2070\n",
       "odometer             0\n",
       "title_status      5956\n",
       "transmission      1485\n",
       "drive           106647\n",
       "size            256682\n",
       "type             71759\n",
       "paint_color      99831\n",
       "lat               3319\n",
       "long              3319\n",
       "dtype: int64"
      ]
     },
     "execution_count": 20,
     "metadata": {},
     "output_type": "execute_result"
    }
   ],
   "source": [
    "df.isnull().sum()"
   ]
  },
  {
   "cell_type": "code",
   "execution_count": 27,
   "id": "f341fc1d",
   "metadata": {},
   "outputs": [
    {
     "name": "stdout",
     "output_type": "stream",
     "text": [
      "Shape of the data after dropping duplicates: (257938, 16)\n"
     ]
    }
   ],
   "source": [
    "# drop duplicated columns \n",
    "df = df.drop_duplicates()\n",
    "print(\"Shape of the data after dropping duplicates:\", df.shape)"
   ]
  },
  {
   "cell_type": "code",
   "execution_count": 29,
   "id": "b1363ec1",
   "metadata": {},
   "outputs": [],
   "source": [
    "# let's save the cleaned data to a new csv file \n",
    "cleaned_base_path = os.path.join('..', 'data', 'processed')\n",
    "\n",
    "if not os.path.exists(cleaned_base_path): \n",
    "    os.makedirs(cleaned_base_path)\n",
    "\n",
    "df.to_csv(os.path.join(cleaned_base_path, 'cleaned_v1.csv'), index=False)"
   ]
  },
  {
   "cell_type": "markdown",
   "id": "8e2462b5",
   "metadata": {},
   "source": [
    "### Part two of cleaning data "
   ]
  },
  {
   "cell_type": "code",
   "execution_count": null,
   "id": "a47efac8",
   "metadata": {},
   "outputs": [
    {
     "data": {
      "application/vnd.microsoft.datawrangler.viewer.v0+json": {
       "columns": [
        {
         "name": "index",
         "rawType": "int64",
         "type": "integer"
        },
        {
         "name": "price",
         "rawType": "int64",
         "type": "integer"
        },
        {
         "name": "year",
         "rawType": "int64",
         "type": "integer"
        },
        {
         "name": "manufacturer",
         "rawType": "object",
         "type": "string"
        },
        {
         "name": "model",
         "rawType": "object",
         "type": "string"
        },
        {
         "name": "condition",
         "rawType": "object",
         "type": "string"
        },
        {
         "name": "cylinders",
         "rawType": "object",
         "type": "string"
        },
        {
         "name": "fuel",
         "rawType": "object",
         "type": "string"
        },
        {
         "name": "odometer",
         "rawType": "float64",
         "type": "float"
        },
        {
         "name": "title_status",
         "rawType": "object",
         "type": "string"
        },
        {
         "name": "transmission",
         "rawType": "object",
         "type": "string"
        },
        {
         "name": "drive",
         "rawType": "object",
         "type": "unknown"
        },
        {
         "name": "size",
         "rawType": "object",
         "type": "unknown"
        },
        {
         "name": "type",
         "rawType": "object",
         "type": "string"
        },
        {
         "name": "paint_color",
         "rawType": "object",
         "type": "string"
        },
        {
         "name": "lat",
         "rawType": "float64",
         "type": "float"
        },
        {
         "name": "long",
         "rawType": "float64",
         "type": "float"
        }
       ],
       "ref": "6f80de1b-f58c-4181-9e07-1160272df4d5",
       "rows": [
        [
         "0",
         "33590",
         "2014",
         "gmc",
         "sierra 1500 crew cab slt",
         "good",
         "8 cylinders",
         "gas",
         "57923.0",
         "clean",
         "other",
         null,
         null,
         "pickup",
         "white",
         "32.59",
         "-85.48"
        ],
        [
         "1",
         "22590",
         "2010",
         "chevrolet",
         "silverado 1500",
         "good",
         "8 cylinders",
         "gas",
         "71229.0",
         "clean",
         "other",
         null,
         null,
         "pickup",
         "blue",
         "32.59",
         "-85.48"
        ],
        [
         "2",
         "39590",
         "2020",
         "chevrolet",
         "silverado 1500 crew",
         "good",
         "8 cylinders",
         "gas",
         "19160.0",
         "clean",
         "other",
         null,
         null,
         "pickup",
         "red",
         "32.59",
         "-85.48"
        ],
        [
         "3",
         "30990",
         "2017",
         "toyota",
         "tundra double cab sr",
         "good",
         "8 cylinders",
         "gas",
         "41124.0",
         "clean",
         "other",
         null,
         null,
         "pickup",
         "red",
         "32.59",
         "-85.48"
        ],
        [
         "4",
         "15000",
         "2013",
         "ford",
         "f-150 xlt",
         "excellent",
         "6 cylinders",
         "gas",
         "128000.0",
         "clean",
         "automatic",
         "rwd",
         "full-size",
         "truck",
         "black",
         "32.592",
         "-85.5189"
        ]
       ],
       "shape": {
        "columns": 16,
        "rows": 5
       }
      },
      "text/html": [
       "<div>\n",
       "<style scoped>\n",
       "    .dataframe tbody tr th:only-of-type {\n",
       "        vertical-align: middle;\n",
       "    }\n",
       "\n",
       "    .dataframe tbody tr th {\n",
       "        vertical-align: top;\n",
       "    }\n",
       "\n",
       "    .dataframe thead th {\n",
       "        text-align: right;\n",
       "    }\n",
       "</style>\n",
       "<table border=\"1\" class=\"dataframe\">\n",
       "  <thead>\n",
       "    <tr style=\"text-align: right;\">\n",
       "      <th></th>\n",
       "      <th>price</th>\n",
       "      <th>year</th>\n",
       "      <th>manufacturer</th>\n",
       "      <th>model</th>\n",
       "      <th>condition</th>\n",
       "      <th>cylinders</th>\n",
       "      <th>fuel</th>\n",
       "      <th>odometer</th>\n",
       "      <th>title_status</th>\n",
       "      <th>transmission</th>\n",
       "      <th>drive</th>\n",
       "      <th>size</th>\n",
       "      <th>type</th>\n",
       "      <th>paint_color</th>\n",
       "      <th>lat</th>\n",
       "      <th>long</th>\n",
       "    </tr>\n",
       "  </thead>\n",
       "  <tbody>\n",
       "    <tr>\n",
       "      <th>0</th>\n",
       "      <td>33590</td>\n",
       "      <td>2014</td>\n",
       "      <td>gmc</td>\n",
       "      <td>sierra 1500 crew cab slt</td>\n",
       "      <td>good</td>\n",
       "      <td>8 cylinders</td>\n",
       "      <td>gas</td>\n",
       "      <td>57923.0</td>\n",
       "      <td>clean</td>\n",
       "      <td>other</td>\n",
       "      <td>NaN</td>\n",
       "      <td>NaN</td>\n",
       "      <td>pickup</td>\n",
       "      <td>white</td>\n",
       "      <td>32.590</td>\n",
       "      <td>-85.4800</td>\n",
       "    </tr>\n",
       "    <tr>\n",
       "      <th>1</th>\n",
       "      <td>22590</td>\n",
       "      <td>2010</td>\n",
       "      <td>chevrolet</td>\n",
       "      <td>silverado 1500</td>\n",
       "      <td>good</td>\n",
       "      <td>8 cylinders</td>\n",
       "      <td>gas</td>\n",
       "      <td>71229.0</td>\n",
       "      <td>clean</td>\n",
       "      <td>other</td>\n",
       "      <td>NaN</td>\n",
       "      <td>NaN</td>\n",
       "      <td>pickup</td>\n",
       "      <td>blue</td>\n",
       "      <td>32.590</td>\n",
       "      <td>-85.4800</td>\n",
       "    </tr>\n",
       "    <tr>\n",
       "      <th>2</th>\n",
       "      <td>39590</td>\n",
       "      <td>2020</td>\n",
       "      <td>chevrolet</td>\n",
       "      <td>silverado 1500 crew</td>\n",
       "      <td>good</td>\n",
       "      <td>8 cylinders</td>\n",
       "      <td>gas</td>\n",
       "      <td>19160.0</td>\n",
       "      <td>clean</td>\n",
       "      <td>other</td>\n",
       "      <td>NaN</td>\n",
       "      <td>NaN</td>\n",
       "      <td>pickup</td>\n",
       "      <td>red</td>\n",
       "      <td>32.590</td>\n",
       "      <td>-85.4800</td>\n",
       "    </tr>\n",
       "    <tr>\n",
       "      <th>3</th>\n",
       "      <td>30990</td>\n",
       "      <td>2017</td>\n",
       "      <td>toyota</td>\n",
       "      <td>tundra double cab sr</td>\n",
       "      <td>good</td>\n",
       "      <td>8 cylinders</td>\n",
       "      <td>gas</td>\n",
       "      <td>41124.0</td>\n",
       "      <td>clean</td>\n",
       "      <td>other</td>\n",
       "      <td>NaN</td>\n",
       "      <td>NaN</td>\n",
       "      <td>pickup</td>\n",
       "      <td>red</td>\n",
       "      <td>32.590</td>\n",
       "      <td>-85.4800</td>\n",
       "    </tr>\n",
       "    <tr>\n",
       "      <th>4</th>\n",
       "      <td>15000</td>\n",
       "      <td>2013</td>\n",
       "      <td>ford</td>\n",
       "      <td>f-150 xlt</td>\n",
       "      <td>excellent</td>\n",
       "      <td>6 cylinders</td>\n",
       "      <td>gas</td>\n",
       "      <td>128000.0</td>\n",
       "      <td>clean</td>\n",
       "      <td>automatic</td>\n",
       "      <td>rwd</td>\n",
       "      <td>full-size</td>\n",
       "      <td>truck</td>\n",
       "      <td>black</td>\n",
       "      <td>32.592</td>\n",
       "      <td>-85.5189</td>\n",
       "    </tr>\n",
       "  </tbody>\n",
       "</table>\n",
       "</div>"
      ],
      "text/plain": [
       "   price  year manufacturer                     model  condition    cylinders  \\\n",
       "0  33590  2014          gmc  sierra 1500 crew cab slt       good  8 cylinders   \n",
       "1  22590  2010    chevrolet            silverado 1500       good  8 cylinders   \n",
       "2  39590  2020    chevrolet       silverado 1500 crew       good  8 cylinders   \n",
       "3  30990  2017       toyota      tundra double cab sr       good  8 cylinders   \n",
       "4  15000  2013         ford                 f-150 xlt  excellent  6 cylinders   \n",
       "\n",
       "  fuel  odometer title_status transmission drive       size    type  \\\n",
       "0  gas   57923.0        clean        other   NaN        NaN  pickup   \n",
       "1  gas   71229.0        clean        other   NaN        NaN  pickup   \n",
       "2  gas   19160.0        clean        other   NaN        NaN  pickup   \n",
       "3  gas   41124.0        clean        other   NaN        NaN  pickup   \n",
       "4  gas  128000.0        clean    automatic   rwd  full-size   truck   \n",
       "\n",
       "  paint_color     lat     long  \n",
       "0       white  32.590 -85.4800  \n",
       "1        blue  32.590 -85.4800  \n",
       "2         red  32.590 -85.4800  \n",
       "3         red  32.590 -85.4800  \n",
       "4       black  32.592 -85.5189  "
      ]
     },
     "execution_count": 30,
     "metadata": {},
     "output_type": "execute_result"
    }
   ],
   "source": [
    "df = pd.read_csv(os.path.join('..', 'data', 'processed', 'cleaned_v1.csv'))\n",
    "\n",
    "# check the data again \n",
    "df.head()"
   ]
  },
  {
   "cell_type": "code",
   "execution_count": 42,
   "id": "636f30da",
   "metadata": {},
   "outputs": [
    {
     "ename": "AttributeError",
     "evalue": "type object 'CleanerData' has no attribute 'convert_columns_to_specified_type'",
     "output_type": "error",
     "traceback": [
      "\u001b[31m---------------------------------------------------------------------------\u001b[39m",
      "\u001b[31mAttributeError\u001b[39m                            Traceback (most recent call last)",
      "\u001b[36mCell\u001b[39m\u001b[36m \u001b[39m\u001b[32mIn[42]\u001b[39m\u001b[32m, line 2\u001b[39m\n\u001b[32m      1\u001b[39m \u001b[38;5;66;03m# Fix dtypes \u001b[39;00m\n\u001b[32m----> \u001b[39m\u001b[32m2\u001b[39m df = \u001b[43mCleanerData\u001b[49m\u001b[43m.\u001b[49m\u001b[43mconvert_columns_to_specified_type\u001b[49m(df, \u001b[33m'\u001b[39m\u001b[33mobject\u001b[39m\u001b[33m'\u001b[39m, \u001b[33m'\u001b[39m\u001b[33mcategory\u001b[39m\u001b[33m'\u001b[39m)\n\u001b[32m      4\u001b[39m df.dtypes\n",
      "\u001b[31mAttributeError\u001b[39m: type object 'CleanerData' has no attribute 'convert_columns_to_specified_type'"
     ]
    }
   ],
   "source": [
    "# Fix dtypes \n",
    "df = CleanerData.convert_columns_to_specified_type(df, 'object', 'category')\n",
    "\n",
    "df.dtypes"
   ]
  },
  {
   "cell_type": "code",
   "execution_count": 32,
   "id": "7ab72ef7",
   "metadata": {},
   "outputs": [
    {
     "data": {
      "application/vnd.microsoft.datawrangler.viewer.v0+json": {
       "columns": [
        {
         "name": "index",
         "rawType": "object",
         "type": "string"
        },
        {
         "name": "0",
         "rawType": "int64",
         "type": "integer"
        }
       ],
       "ref": "b0e59d4f-4251-42a2-a447-611c6bc8001f",
       "rows": [
        [
         "price",
         "0"
        ],
        [
         "year",
         "0"
        ],
        [
         "manufacturer",
         "7960"
        ],
        [
         "model",
         "1993"
        ],
        [
         "condition",
         "81309"
        ],
        [
         "cylinders",
         "103873"
        ],
        [
         "fuel",
         "1211"
        ],
        [
         "odometer",
         "0"
        ],
        [
         "title_status",
         "3050"
        ],
        [
         "transmission",
         "853"
        ],
        [
         "drive",
         "79049"
        ],
        [
         "size",
         "183688"
        ],
        [
         "type",
         "51423"
        ],
        [
         "paint_color",
         "67623"
        ],
        [
         "lat",
         "1145"
        ],
        [
         "long",
         "1145"
        ]
       ],
       "shape": {
        "columns": 1,
        "rows": 16
       }
      },
      "text/plain": [
       "price                0\n",
       "year                 0\n",
       "manufacturer      7960\n",
       "model             1993\n",
       "condition        81309\n",
       "cylinders       103873\n",
       "fuel              1211\n",
       "odometer             0\n",
       "title_status      3050\n",
       "transmission       853\n",
       "drive            79049\n",
       "size            183688\n",
       "type             51423\n",
       "paint_color      67623\n",
       "lat               1145\n",
       "long              1145\n",
       "dtype: int64"
      ]
     },
     "execution_count": 32,
     "metadata": {},
     "output_type": "execute_result"
    }
   ],
   "source": [
    "df.isnull().sum()"
   ]
  },
  {
   "cell_type": "code",
   "execution_count": 36,
   "id": "c7bf87fc",
   "metadata": {},
   "outputs": [
    {
     "name": "stdout",
     "output_type": "stream",
     "text": [
      "Unique values in the cylinders column:\n",
      " ['8 cylinders' '6 cylinders' nan '4 cylinders' '5 cylinders' '3 cylinders'\n",
      " '10 cylinders' 'other' '12 cylinders']\n",
      "\n",
      "Checking the value counts for the cylinders column\n",
      "cylinders\n",
      "6 cylinders     62483\n",
      "4 cylinders     49797\n",
      "8 cylinders     38888\n",
      "5 cylinders      1216\n",
      "other             660\n",
      "10 cylinders      580\n",
      "3 cylinders       355\n",
      "12 cylinders       86\n",
      "Name: count, dtype: int64\n"
     ]
    }
   ],
   "source": [
    "# The column cylinders has a lot of nan values, let's check the unique values in this column \n",
    "print(\"Unique values in the cylinders column:\\n\", df['cylinders'].unique()) \n",
    "\n",
    "print('\\nChecking the value counts for the cylinders column')\n",
    "print(df['cylinders'].value_counts()) \n"
   ]
  },
  {
   "cell_type": "code",
   "execution_count": 28,
   "id": "bfdf9e72",
   "metadata": {},
   "outputs": [
    {
     "data": {
      "application/vnd.microsoft.datawrangler.viewer.v0+json": {
       "columns": [
        {
         "name": "index",
         "rawType": "int64",
         "type": "integer"
        },
        {
         "name": "price",
         "rawType": "int64",
         "type": "integer"
        },
        {
         "name": "year",
         "rawType": "int64",
         "type": "integer"
        },
        {
         "name": "manufacturer",
         "rawType": "category",
         "type": "unknown"
        },
        {
         "name": "model",
         "rawType": "category",
         "type": "unknown"
        },
        {
         "name": "condition",
         "rawType": "category",
         "type": "unknown"
        },
        {
         "name": "cylinders",
         "rawType": "category",
         "type": "unknown"
        },
        {
         "name": "fuel",
         "rawType": "category",
         "type": "unknown"
        },
        {
         "name": "odometer",
         "rawType": "float64",
         "type": "float"
        },
        {
         "name": "title_status",
         "rawType": "category",
         "type": "unknown"
        },
        {
         "name": "transmission",
         "rawType": "category",
         "type": "unknown"
        },
        {
         "name": "drive",
         "rawType": "category",
         "type": "unknown"
        },
        {
         "name": "size",
         "rawType": "category",
         "type": "unknown"
        },
        {
         "name": "type",
         "rawType": "category",
         "type": "unknown"
        },
        {
         "name": "paint_color",
         "rawType": "category",
         "type": "unknown"
        },
        {
         "name": "lat",
         "rawType": "float64",
         "type": "float"
        },
        {
         "name": "long",
         "rawType": "float64",
         "type": "float"
        }
       ],
       "ref": "9c2bec20-ccee-44f3-9ba5-4f4cc8e4257b",
       "rows": [
        [
         "1330",
         "1000",
         "2021",
         null,
         "SPECIAL FINANCE PROGRAM 2021",
         "fair",
         "other",
         "other",
         "1400.0",
         "clean",
         "other",
         null,
         "full-size",
         "bus",
         "green",
         "32.9229",
         "-86.545"
        ],
        [
         "2164",
         "13500",
         "2015",
         "gmc",
         "acadia slt",
         "good",
         "other",
         "gas",
         "111073.0",
         "clean",
         "automatic",
         null,
         null,
         "SUV",
         "black",
         "35.0728",
         "-87.427"
        ],
        [
         "5746",
         "16000",
         "2018",
         "ford",
         "ecosport",
         "new",
         "other",
         "gas",
         "6100.0",
         "clean",
         "automatic",
         "4wd",
         null,
         null,
         null,
         "61.8966",
         "-150.0038"
        ],
        [
         "5966",
         "10000",
         "2014",
         "chevrolet",
         "spark",
         "excellent",
         "other",
         "gas",
         "52000.0",
         "clean",
         "automatic",
         "fwd",
         "compact",
         "hatchback",
         "blue",
         "61.164033",
         "-149.915706"
        ],
        [
         "7360",
         "4500",
         "2007",
         "mazda",
         "rx8",
         "like new",
         "other",
         "gas",
         "145000.0",
         "clean",
         "manual",
         "rwd",
         null,
         "coupe",
         "silver",
         "61.1783",
         "-149.8212"
        ]
       ],
       "shape": {
        "columns": 16,
        "rows": 5
       }
      },
      "text/html": [
       "<div>\n",
       "<style scoped>\n",
       "    .dataframe tbody tr th:only-of-type {\n",
       "        vertical-align: middle;\n",
       "    }\n",
       "\n",
       "    .dataframe tbody tr th {\n",
       "        vertical-align: top;\n",
       "    }\n",
       "\n",
       "    .dataframe thead th {\n",
       "        text-align: right;\n",
       "    }\n",
       "</style>\n",
       "<table border=\"1\" class=\"dataframe\">\n",
       "  <thead>\n",
       "    <tr style=\"text-align: right;\">\n",
       "      <th></th>\n",
       "      <th>price</th>\n",
       "      <th>year</th>\n",
       "      <th>manufacturer</th>\n",
       "      <th>model</th>\n",
       "      <th>condition</th>\n",
       "      <th>cylinders</th>\n",
       "      <th>fuel</th>\n",
       "      <th>odometer</th>\n",
       "      <th>title_status</th>\n",
       "      <th>transmission</th>\n",
       "      <th>drive</th>\n",
       "      <th>size</th>\n",
       "      <th>type</th>\n",
       "      <th>paint_color</th>\n",
       "      <th>lat</th>\n",
       "      <th>long</th>\n",
       "    </tr>\n",
       "  </thead>\n",
       "  <tbody>\n",
       "    <tr>\n",
       "      <th>1330</th>\n",
       "      <td>1000</td>\n",
       "      <td>2021</td>\n",
       "      <td>NaN</td>\n",
       "      <td>SPECIAL FINANCE PROGRAM 2021</td>\n",
       "      <td>fair</td>\n",
       "      <td>other</td>\n",
       "      <td>other</td>\n",
       "      <td>1400.0</td>\n",
       "      <td>clean</td>\n",
       "      <td>other</td>\n",
       "      <td>NaN</td>\n",
       "      <td>full-size</td>\n",
       "      <td>bus</td>\n",
       "      <td>green</td>\n",
       "      <td>32.922900</td>\n",
       "      <td>-86.545000</td>\n",
       "    </tr>\n",
       "    <tr>\n",
       "      <th>2164</th>\n",
       "      <td>13500</td>\n",
       "      <td>2015</td>\n",
       "      <td>gmc</td>\n",
       "      <td>acadia slt</td>\n",
       "      <td>good</td>\n",
       "      <td>other</td>\n",
       "      <td>gas</td>\n",
       "      <td>111073.0</td>\n",
       "      <td>clean</td>\n",
       "      <td>automatic</td>\n",
       "      <td>NaN</td>\n",
       "      <td>NaN</td>\n",
       "      <td>SUV</td>\n",
       "      <td>black</td>\n",
       "      <td>35.072800</td>\n",
       "      <td>-87.427000</td>\n",
       "    </tr>\n",
       "    <tr>\n",
       "      <th>5746</th>\n",
       "      <td>16000</td>\n",
       "      <td>2018</td>\n",
       "      <td>ford</td>\n",
       "      <td>ecosport</td>\n",
       "      <td>new</td>\n",
       "      <td>other</td>\n",
       "      <td>gas</td>\n",
       "      <td>6100.0</td>\n",
       "      <td>clean</td>\n",
       "      <td>automatic</td>\n",
       "      <td>4wd</td>\n",
       "      <td>NaN</td>\n",
       "      <td>NaN</td>\n",
       "      <td>NaN</td>\n",
       "      <td>61.896600</td>\n",
       "      <td>-150.003800</td>\n",
       "    </tr>\n",
       "    <tr>\n",
       "      <th>5966</th>\n",
       "      <td>10000</td>\n",
       "      <td>2014</td>\n",
       "      <td>chevrolet</td>\n",
       "      <td>spark</td>\n",
       "      <td>excellent</td>\n",
       "      <td>other</td>\n",
       "      <td>gas</td>\n",
       "      <td>52000.0</td>\n",
       "      <td>clean</td>\n",
       "      <td>automatic</td>\n",
       "      <td>fwd</td>\n",
       "      <td>compact</td>\n",
       "      <td>hatchback</td>\n",
       "      <td>blue</td>\n",
       "      <td>61.164033</td>\n",
       "      <td>-149.915706</td>\n",
       "    </tr>\n",
       "    <tr>\n",
       "      <th>7360</th>\n",
       "      <td>4500</td>\n",
       "      <td>2007</td>\n",
       "      <td>mazda</td>\n",
       "      <td>rx8</td>\n",
       "      <td>like new</td>\n",
       "      <td>other</td>\n",
       "      <td>gas</td>\n",
       "      <td>145000.0</td>\n",
       "      <td>clean</td>\n",
       "      <td>manual</td>\n",
       "      <td>rwd</td>\n",
       "      <td>NaN</td>\n",
       "      <td>coupe</td>\n",
       "      <td>silver</td>\n",
       "      <td>61.178300</td>\n",
       "      <td>-149.821200</td>\n",
       "    </tr>\n",
       "  </tbody>\n",
       "</table>\n",
       "</div>"
      ],
      "text/plain": [
       "      price  year manufacturer                         model  condition  \\\n",
       "1330   1000  2021          NaN  SPECIAL FINANCE PROGRAM 2021       fair   \n",
       "2164  13500  2015          gmc                    acadia slt       good   \n",
       "5746  16000  2018         ford                      ecosport        new   \n",
       "5966  10000  2014    chevrolet                         spark  excellent   \n",
       "7360   4500  2007        mazda                           rx8   like new   \n",
       "\n",
       "     cylinders   fuel  odometer title_status transmission drive       size  \\\n",
       "1330     other  other    1400.0        clean        other   NaN  full-size   \n",
       "2164     other    gas  111073.0        clean    automatic   NaN        NaN   \n",
       "5746     other    gas    6100.0        clean    automatic   4wd        NaN   \n",
       "5966     other    gas   52000.0        clean    automatic   fwd    compact   \n",
       "7360     other    gas  145000.0        clean       manual   rwd        NaN   \n",
       "\n",
       "           type paint_color        lat        long  \n",
       "1330        bus       green  32.922900  -86.545000  \n",
       "2164        SUV       black  35.072800  -87.427000  \n",
       "5746        NaN         NaN  61.896600 -150.003800  \n",
       "5966  hatchback        blue  61.164033 -149.915706  \n",
       "7360      coupe      silver  61.178300 -149.821200  "
      ]
     },
     "execution_count": 28,
     "metadata": {},
     "output_type": "execute_result"
    }
   ],
   "source": [
    "# let's plot an example of the cylinders column with category 'other' \n",
    "df[df['cylinders'] == 'other'].head()"
   ]
  },
  {
   "cell_type": "code",
   "execution_count": null,
   "id": "cb90f817",
   "metadata": {},
   "outputs": [],
   "source": [
    "plt.figure(figsize=(12,6))\n",
    "sns.histplot(df['price'], bins=80, kde=True)\n",
    "plt.title('Distribution of Car Prices')\n",
    "plt.xlabel('Price (USD)')\n",
    "plt.ylabel('Frequency')\n",
    "plt.show()"
   ]
  },
  {
   "cell_type": "code",
   "execution_count": null,
   "id": "f5634fb0",
   "metadata": {},
   "outputs": [],
   "source": [
    "plt.figure(figsize=(12,6))\n",
    "sns.histplot(df['year'], bins=80, kde=True)\n",
    "plt.title('Distribution of Car Years')\n",
    "plt.xlabel('Year')\n",
    "plt.ylabel('Quantity')\n",
    "plt.xticks(rotation=45) \n",
    "plt.show()"
   ]
  },
  {
   "cell_type": "code",
   "execution_count": null,
   "id": "d19778ab",
   "metadata": {},
   "outputs": [],
   "source": [
    "#Check the price mean by year \n",
    "df.groupby('year')['price'].mean().plot(kind='line', figsize=(12,6))\n",
    "plt.title('Mean Price by Year') \n",
    "plt.xlabel('Year')\n",
    "plt.ylabel('Mean Price (USD)') \n",
    "plt.grid(True)\n",
    "plt.show()"
   ]
  },
  {
   "cell_type": "markdown",
   "id": "5c22af50",
   "metadata": {},
   "source": [
    "- The graphic shows that the mean price of cars has been increasing over the years, which is expected as newer cars tend to be more expensive. "
   ]
  },
  {
   "cell_type": "code",
   "execution_count": null,
   "id": "6c51fed4",
   "metadata": {},
   "outputs": [],
   "source": [
    "#check the distribution of the car mileage \n",
    "df['odometer'].describe()"
   ]
  },
  {
   "cell_type": "code",
   "execution_count": null,
   "id": "97dc5878",
   "metadata": {},
   "outputs": [],
   "source": [
    "#Check the max and min mileage of the cars \n",
    "df['odometer'].max(), df['odometer'].min()"
   ]
  },
  {
   "cell_type": "code",
   "execution_count": null,
   "id": "4be4e4c5",
   "metadata": {},
   "outputs": [],
   "source": [
    "#Let's remove the outliers from the mileage column, we will select only the cars with a mileage between 10000 and 500000\n",
    "df = df[(df['odometer'] > 10000) & (df['odometer'] < 500000)] \n",
    "\n",
    "df['odometer'].describe() "
   ]
  },
  {
   "cell_type": "code",
   "execution_count": null,
   "id": "13b4ba8f",
   "metadata": {},
   "outputs": [],
   "source": [
    "#Let's see how the mileage affects the price of the cars.\n",
    "\n",
    "df['odometer_bin'] = pd.cut(df['odometer'], bins=10, labels=False)\n",
    "\n",
    "df.groupby('odometer_bin')['price'].mean().plot(kind='bar', figsize=(12,6))\n",
    "plt.title('Mean Price by Mileage Bin')\n",
    "plt.xlabel('Mileage Bin')\n",
    "plt.ylabel('Mean Price (USD)')\n",
    "plt.xticks(rotation=45)\n",
    "plt.grid(True)\n",
    "plt.show()"
   ]
  },
  {
   "cell_type": "code",
   "execution_count": null,
   "id": "dbe99957",
   "metadata": {},
   "outputs": [],
   "source": [
    "df['odometer_bin'].value_counts().sort_index()"
   ]
  },
  {
   "cell_type": "code",
   "execution_count": null,
   "id": "c82421c4",
   "metadata": {},
   "outputs": [],
   "source": [
    "plt.figure(figsize=(14,6))\n",
    "sns.boxplot(x='odometer_bin', y='price', data=df)\n",
    "plt.title('Distribuição de Preços por Faixa de Quilometragem')\n",
    "plt.xlabel('Faixa de Quilometragem')\n",
    "plt.ylabel('Preço (USD)')\n",
    "plt.xticks(rotation=45)\n",
    "plt.grid(True)\n",
    "plt.show()\n"
   ]
  },
  {
   "cell_type": "code",
   "execution_count": null,
   "id": "cd2c1835",
   "metadata": {},
   "outputs": [],
   "source": [
    "df['manufacturer'].value_counts().head(10).plot(kind='bar', figsize=(12,6))\n",
    "plt.title('Top 10 Car Manufacturers')\n",
    "plt.xlabel('Manufacturer')\n",
    "plt.ylabel('Count')\n",
    "plt.xticks(rotation=45)\n",
    "plt.grid(True)\n",
    "plt.show()"
   ]
  },
  {
   "cell_type": "code",
   "execution_count": null,
   "id": "b8905fed",
   "metadata": {},
   "outputs": [],
   "source": [
    "#visualize the mean price by main manufacturers\n",
    "main_manufacturers = df['manufacturer'].value_counts().head(10).index.tolist() \n",
    "\n",
    "df_top = df[df['manufacturer'].isin(main_manufacturers)] \n",
    "df_top.groupby('manufacturer')['price'].mean().sort_values(ascending=False).plot(kind='bar', figsize=(12,6))\n",
    "plt.title('Mean Price by Top Manufacturer')\n",
    "plt.xlabel('Manufacturer')\n",
    "plt.ylabel('Mean Price (USD)')\n",
    "plt.xticks(rotation=45)\n",
    "plt.grid(True)\n",
    "plt.plot()"
   ]
  },
  {
   "cell_type": "code",
   "execution_count": null,
   "id": "b1646283",
   "metadata": {},
   "outputs": [],
   "source": [
    "#Check the condition of the cars \n",
    "df['condition'].value_counts().plot(kind='bar', figsize=(12,6)) \n"
   ]
  },
  {
   "cell_type": "code",
   "execution_count": null,
   "id": "d6fc7699",
   "metadata": {},
   "outputs": [],
   "source": [
    "#Check relation between condition and price \n",
    "df.groupby('condition')['price'].mean().sort_values(ascending=False).plot(kind='bar', figsize=(12,6)) \n",
    "plt.title('Mean Price by Condition') \n",
    "plt.xlabel('Condition') \n",
    "plt.ylabel('Mean Price (USD)') \n",
    "plt.xticks(rotation=45) \n",
    "plt.grid(True) \n",
    "plt.show() "
   ]
  },
  {
   "cell_type": "markdown",
   "id": "820c9a98",
   "metadata": {},
   "source": [
    "- The graphic below show that the condition of the car influences the price of the car, but not as much as the mileage and year. "
   ]
  },
  {
   "cell_type": "code",
   "execution_count": null,
   "id": "35f7bb05",
   "metadata": {},
   "outputs": [],
   "source": [
    "#Check the fuel \n",
    "df['fuel'].value_counts().plot(kind='bar', figsize=(12,6))\n",
    "plt.title('Fuel Types Count')\n",
    "plt.xlabel('Fuel Type')\n",
    "plt.ylabel('Count')\n",
    "plt.xticks(rotation=45)\n",
    "plt.grid(True)\n",
    "plt.show()\n"
   ]
  },
  {
   "cell_type": "code",
   "execution_count": null,
   "id": "1e73ffc2",
   "metadata": {},
   "outputs": [],
   "source": [
    "df.groupby('fuel')['price'].mean().sort_values(ascending=False).plot(kind='bar', figsize=(12,6)) \n",
    "plt.title('Fuel Types Mean Price')\n",
    "plt.xlabel('Fuel Type')\n",
    "plt.ylabel('Mean Price (USD)')\n",
    "plt.xticks(rotation=45)\n",
    "plt.grid(True)\n",
    "plt.show()"
   ]
  },
  {
   "cell_type": "code",
   "execution_count": null,
   "id": "cbb98464",
   "metadata": {},
   "outputs": [],
   "source": [
    "df.groupby('type')['price'].mean().sort_values(ascending=False).plot(kind='bar', figsize=(12,6))\n",
    "plt.title('Car Type Mean Price')\n",
    "plt.xlabel('Car Type')\n",
    "plt.ylabel('Mean Price (USD)')\n",
    "plt.xticks(rotation=45)\n",
    "plt.grid(True)\n",
    "plt.show()"
   ]
  },
  {
   "cell_type": "code",
   "execution_count": null,
   "id": "28fa6bf3",
   "metadata": {},
   "outputs": [],
   "source": [
    "df.corr"
   ]
  },
  {
   "cell_type": "code",
   "execution_count": null,
   "id": "7d2b4ca6",
   "metadata": {},
   "outputs": [],
   "source": [
    "df.dtypes"
   ]
  },
  {
   "cell_type": "code",
   "execution_count": null,
   "id": "c8d37a11",
   "metadata": {},
   "outputs": [],
   "source": [
    "numeric_cols = df.select_dtypes(include=['int64', 'float64']).columns.tolist()\n",
    "\n",
    "df_numeric = df[numeric_cols] \n",
    "\n",
    "plt.figure(figsize=(12,8)) \n",
    "sns.heatmap(df_numeric.corr(), annot=True, cmap='coolwarm', fmt='.2f')\n",
    "plt.title('Correlation Heatmap')\n",
    "plt.show()"
   ]
  }
 ],
 "metadata": {
  "kernelspec": {
   "display_name": "venv",
   "language": "python",
   "name": "python3"
  },
  "language_info": {
   "codemirror_mode": {
    "name": "ipython",
    "version": 3
   },
   "file_extension": ".py",
   "mimetype": "text/x-python",
   "name": "python",
   "nbconvert_exporter": "python",
   "pygments_lexer": "ipython3",
   "version": "3.13.1"
  }
 },
 "nbformat": 4,
 "nbformat_minor": 5
}
