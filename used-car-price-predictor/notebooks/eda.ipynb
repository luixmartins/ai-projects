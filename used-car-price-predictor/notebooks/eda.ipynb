{
 "cells": [
  {
   "cell_type": "markdown",
   "id": "a85bcf1f",
   "metadata": {},
   "source": [
    "### Import necesary libraries  "
   ]
  },
  {
   "cell_type": "code",
   "execution_count": 1,
   "id": "3bf0e30b",
   "metadata": {},
   "outputs": [],
   "source": [
    "import pandas as pd \n",
    "import numpy as np \n",
    "import matplotlib.pyplot as plt \n",
    "import seaborn as sns \n",
    "import os \n",
    "import sys \n",
    "\n",
    "# add the path to the module to the system path \n",
    "sys.path.insert(0, os.path.join('..', 'src'))\n",
    "\n",
    "from data_preprocessing import CleanerData\n",
    "\n",
    "#visual settings \n",
    "plt.style.use('seaborn-v0_8-whitegrid')\n",
    "\n",
    "sns.set_palette('Set2')"
   ]
  },
  {
   "cell_type": "markdown",
   "id": "79a62d97",
   "metadata": {},
   "source": [
    "### Import data "
   ]
  },
  {
   "cell_type": "code",
   "execution_count": 19,
   "id": "6ef586bc",
   "metadata": {},
   "outputs": [
    {
     "data": {
      "application/vnd.microsoft.datawrangler.viewer.v0+json": {
       "columns": [
        {
         "name": "index",
         "rawType": "int64",
         "type": "integer"
        },
        {
         "name": "id",
         "rawType": "int64",
         "type": "integer"
        },
        {
         "name": "url",
         "rawType": "object",
         "type": "string"
        },
        {
         "name": "region",
         "rawType": "object",
         "type": "string"
        },
        {
         "name": "region_url",
         "rawType": "object",
         "type": "string"
        },
        {
         "name": "price",
         "rawType": "int64",
         "type": "integer"
        },
        {
         "name": "year",
         "rawType": "float64",
         "type": "float"
        },
        {
         "name": "manufacturer",
         "rawType": "object",
         "type": "unknown"
        },
        {
         "name": "model",
         "rawType": "object",
         "type": "unknown"
        },
        {
         "name": "condition",
         "rawType": "object",
         "type": "unknown"
        },
        {
         "name": "cylinders",
         "rawType": "object",
         "type": "unknown"
        },
        {
         "name": "fuel",
         "rawType": "object",
         "type": "unknown"
        },
        {
         "name": "odometer",
         "rawType": "float64",
         "type": "float"
        },
        {
         "name": "title_status",
         "rawType": "object",
         "type": "unknown"
        },
        {
         "name": "transmission",
         "rawType": "object",
         "type": "unknown"
        },
        {
         "name": "VIN",
         "rawType": "object",
         "type": "unknown"
        },
        {
         "name": "drive",
         "rawType": "object",
         "type": "unknown"
        },
        {
         "name": "size",
         "rawType": "object",
         "type": "unknown"
        },
        {
         "name": "type",
         "rawType": "object",
         "type": "unknown"
        },
        {
         "name": "paint_color",
         "rawType": "object",
         "type": "unknown"
        },
        {
         "name": "image_url",
         "rawType": "object",
         "type": "unknown"
        },
        {
         "name": "description",
         "rawType": "object",
         "type": "unknown"
        },
        {
         "name": "county",
         "rawType": "float64",
         "type": "float"
        },
        {
         "name": "state",
         "rawType": "object",
         "type": "string"
        },
        {
         "name": "lat",
         "rawType": "float64",
         "type": "float"
        },
        {
         "name": "long",
         "rawType": "float64",
         "type": "float"
        },
        {
         "name": "posting_date",
         "rawType": "object",
         "type": "unknown"
        }
       ],
       "conversionMethod": "pd.DataFrame",
       "ref": "7f45401f-beef-497e-838b-a83f230a93a1",
       "rows": [
        [
         "0",
         "7222695916",
         "https://prescott.craigslist.org/cto/d/prescott-2010-ford-ranger/7222695916.html",
         "prescott",
         "https://prescott.craigslist.org",
         "6000",
         null,
         null,
         null,
         null,
         null,
         null,
         null,
         null,
         null,
         null,
         null,
         null,
         null,
         null,
         null,
         null,
         null,
         "az",
         null,
         null,
         null
        ],
        [
         "1",
         "7218891961",
         "https://fayar.craigslist.org/ctd/d/bentonville-2017-hyundai-elantra-se/7218891961.html",
         "fayetteville",
         "https://fayar.craigslist.org",
         "11900",
         null,
         null,
         null,
         null,
         null,
         null,
         null,
         null,
         null,
         null,
         null,
         null,
         null,
         null,
         null,
         null,
         null,
         "ar",
         null,
         null,
         null
        ],
        [
         "2",
         "7221797935",
         "https://keys.craigslist.org/cto/d/summerland-key-2005-excursion/7221797935.html",
         "florida keys",
         "https://keys.craigslist.org",
         "21000",
         null,
         null,
         null,
         null,
         null,
         null,
         null,
         null,
         null,
         null,
         null,
         null,
         null,
         null,
         null,
         null,
         null,
         "fl",
         null,
         null,
         null
        ],
        [
         "3",
         "7222270760",
         "https://worcester.craigslist.org/cto/d/west-brookfield-2002-honda-odyssey-ex/7222270760.html",
         "worcester / central MA",
         "https://worcester.craigslist.org",
         "1500",
         null,
         null,
         null,
         null,
         null,
         null,
         null,
         null,
         null,
         null,
         null,
         null,
         null,
         null,
         null,
         null,
         null,
         "ma",
         null,
         null,
         null
        ],
        [
         "4",
         "7210384030",
         "https://greensboro.craigslist.org/cto/d/trinity-1965-chevrolet-truck/7210384030.html",
         "greensboro",
         "https://greensboro.craigslist.org",
         "4900",
         null,
         null,
         null,
         null,
         null,
         null,
         null,
         null,
         null,
         null,
         null,
         null,
         null,
         null,
         null,
         null,
         null,
         "nc",
         null,
         null,
         null
        ]
       ],
       "shape": {
        "columns": 26,
        "rows": 5
       }
      },
      "text/html": [
       "<div>\n",
       "<style scoped>\n",
       "    .dataframe tbody tr th:only-of-type {\n",
       "        vertical-align: middle;\n",
       "    }\n",
       "\n",
       "    .dataframe tbody tr th {\n",
       "        vertical-align: top;\n",
       "    }\n",
       "\n",
       "    .dataframe thead th {\n",
       "        text-align: right;\n",
       "    }\n",
       "</style>\n",
       "<table border=\"1\" class=\"dataframe\">\n",
       "  <thead>\n",
       "    <tr style=\"text-align: right;\">\n",
       "      <th></th>\n",
       "      <th>id</th>\n",
       "      <th>url</th>\n",
       "      <th>region</th>\n",
       "      <th>region_url</th>\n",
       "      <th>price</th>\n",
       "      <th>year</th>\n",
       "      <th>manufacturer</th>\n",
       "      <th>model</th>\n",
       "      <th>condition</th>\n",
       "      <th>cylinders</th>\n",
       "      <th>...</th>\n",
       "      <th>size</th>\n",
       "      <th>type</th>\n",
       "      <th>paint_color</th>\n",
       "      <th>image_url</th>\n",
       "      <th>description</th>\n",
       "      <th>county</th>\n",
       "      <th>state</th>\n",
       "      <th>lat</th>\n",
       "      <th>long</th>\n",
       "      <th>posting_date</th>\n",
       "    </tr>\n",
       "  </thead>\n",
       "  <tbody>\n",
       "    <tr>\n",
       "      <th>0</th>\n",
       "      <td>7222695916</td>\n",
       "      <td>https://prescott.craigslist.org/cto/d/prescott...</td>\n",
       "      <td>prescott</td>\n",
       "      <td>https://prescott.craigslist.org</td>\n",
       "      <td>6000</td>\n",
       "      <td>NaN</td>\n",
       "      <td>NaN</td>\n",
       "      <td>NaN</td>\n",
       "      <td>NaN</td>\n",
       "      <td>NaN</td>\n",
       "      <td>...</td>\n",
       "      <td>NaN</td>\n",
       "      <td>NaN</td>\n",
       "      <td>NaN</td>\n",
       "      <td>NaN</td>\n",
       "      <td>NaN</td>\n",
       "      <td>NaN</td>\n",
       "      <td>az</td>\n",
       "      <td>NaN</td>\n",
       "      <td>NaN</td>\n",
       "      <td>NaN</td>\n",
       "    </tr>\n",
       "    <tr>\n",
       "      <th>1</th>\n",
       "      <td>7218891961</td>\n",
       "      <td>https://fayar.craigslist.org/ctd/d/bentonville...</td>\n",
       "      <td>fayetteville</td>\n",
       "      <td>https://fayar.craigslist.org</td>\n",
       "      <td>11900</td>\n",
       "      <td>NaN</td>\n",
       "      <td>NaN</td>\n",
       "      <td>NaN</td>\n",
       "      <td>NaN</td>\n",
       "      <td>NaN</td>\n",
       "      <td>...</td>\n",
       "      <td>NaN</td>\n",
       "      <td>NaN</td>\n",
       "      <td>NaN</td>\n",
       "      <td>NaN</td>\n",
       "      <td>NaN</td>\n",
       "      <td>NaN</td>\n",
       "      <td>ar</td>\n",
       "      <td>NaN</td>\n",
       "      <td>NaN</td>\n",
       "      <td>NaN</td>\n",
       "    </tr>\n",
       "    <tr>\n",
       "      <th>2</th>\n",
       "      <td>7221797935</td>\n",
       "      <td>https://keys.craigslist.org/cto/d/summerland-k...</td>\n",
       "      <td>florida keys</td>\n",
       "      <td>https://keys.craigslist.org</td>\n",
       "      <td>21000</td>\n",
       "      <td>NaN</td>\n",
       "      <td>NaN</td>\n",
       "      <td>NaN</td>\n",
       "      <td>NaN</td>\n",
       "      <td>NaN</td>\n",
       "      <td>...</td>\n",
       "      <td>NaN</td>\n",
       "      <td>NaN</td>\n",
       "      <td>NaN</td>\n",
       "      <td>NaN</td>\n",
       "      <td>NaN</td>\n",
       "      <td>NaN</td>\n",
       "      <td>fl</td>\n",
       "      <td>NaN</td>\n",
       "      <td>NaN</td>\n",
       "      <td>NaN</td>\n",
       "    </tr>\n",
       "    <tr>\n",
       "      <th>3</th>\n",
       "      <td>7222270760</td>\n",
       "      <td>https://worcester.craigslist.org/cto/d/west-br...</td>\n",
       "      <td>worcester / central MA</td>\n",
       "      <td>https://worcester.craigslist.org</td>\n",
       "      <td>1500</td>\n",
       "      <td>NaN</td>\n",
       "      <td>NaN</td>\n",
       "      <td>NaN</td>\n",
       "      <td>NaN</td>\n",
       "      <td>NaN</td>\n",
       "      <td>...</td>\n",
       "      <td>NaN</td>\n",
       "      <td>NaN</td>\n",
       "      <td>NaN</td>\n",
       "      <td>NaN</td>\n",
       "      <td>NaN</td>\n",
       "      <td>NaN</td>\n",
       "      <td>ma</td>\n",
       "      <td>NaN</td>\n",
       "      <td>NaN</td>\n",
       "      <td>NaN</td>\n",
       "    </tr>\n",
       "    <tr>\n",
       "      <th>4</th>\n",
       "      <td>7210384030</td>\n",
       "      <td>https://greensboro.craigslist.org/cto/d/trinit...</td>\n",
       "      <td>greensboro</td>\n",
       "      <td>https://greensboro.craigslist.org</td>\n",
       "      <td>4900</td>\n",
       "      <td>NaN</td>\n",
       "      <td>NaN</td>\n",
       "      <td>NaN</td>\n",
       "      <td>NaN</td>\n",
       "      <td>NaN</td>\n",
       "      <td>...</td>\n",
       "      <td>NaN</td>\n",
       "      <td>NaN</td>\n",
       "      <td>NaN</td>\n",
       "      <td>NaN</td>\n",
       "      <td>NaN</td>\n",
       "      <td>NaN</td>\n",
       "      <td>nc</td>\n",
       "      <td>NaN</td>\n",
       "      <td>NaN</td>\n",
       "      <td>NaN</td>\n",
       "    </tr>\n",
       "  </tbody>\n",
       "</table>\n",
       "<p>5 rows × 26 columns</p>\n",
       "</div>"
      ],
      "text/plain": [
       "           id                                                url  \\\n",
       "0  7222695916  https://prescott.craigslist.org/cto/d/prescott...   \n",
       "1  7218891961  https://fayar.craigslist.org/ctd/d/bentonville...   \n",
       "2  7221797935  https://keys.craigslist.org/cto/d/summerland-k...   \n",
       "3  7222270760  https://worcester.craigslist.org/cto/d/west-br...   \n",
       "4  7210384030  https://greensboro.craigslist.org/cto/d/trinit...   \n",
       "\n",
       "                   region                         region_url  price  year  \\\n",
       "0                prescott    https://prescott.craigslist.org   6000   NaN   \n",
       "1            fayetteville       https://fayar.craigslist.org  11900   NaN   \n",
       "2            florida keys        https://keys.craigslist.org  21000   NaN   \n",
       "3  worcester / central MA   https://worcester.craigslist.org   1500   NaN   \n",
       "4              greensboro  https://greensboro.craigslist.org   4900   NaN   \n",
       "\n",
       "  manufacturer model condition cylinders  ... size  type paint_color  \\\n",
       "0          NaN   NaN       NaN       NaN  ...  NaN   NaN         NaN   \n",
       "1          NaN   NaN       NaN       NaN  ...  NaN   NaN         NaN   \n",
       "2          NaN   NaN       NaN       NaN  ...  NaN   NaN         NaN   \n",
       "3          NaN   NaN       NaN       NaN  ...  NaN   NaN         NaN   \n",
       "4          NaN   NaN       NaN       NaN  ...  NaN   NaN         NaN   \n",
       "\n",
       "  image_url description county state lat long posting_date  \n",
       "0       NaN         NaN    NaN    az NaN  NaN          NaN  \n",
       "1       NaN         NaN    NaN    ar NaN  NaN          NaN  \n",
       "2       NaN         NaN    NaN    fl NaN  NaN          NaN  \n",
       "3       NaN         NaN    NaN    ma NaN  NaN          NaN  \n",
       "4       NaN         NaN    NaN    nc NaN  NaN          NaN  \n",
       "\n",
       "[5 rows x 26 columns]"
      ]
     },
     "execution_count": 19,
     "metadata": {},
     "output_type": "execute_result"
    }
   ],
   "source": [
    "base_path = os.path.join('..', 'data', 'raw')\n",
    "file_name = 'vehicles.csv'\n",
    "\n",
    "path = os.path.join(base_path, file_name)\n",
    "\n",
    "df = pd.read_csv(path)\n",
    "\n",
    "df.head()"
   ]
  },
  {
   "cell_type": "markdown",
   "id": "1c068b81",
   "metadata": {},
   "source": [
    "### Initial data exploration "
   ]
  },
  {
   "cell_type": "code",
   "execution_count": 20,
   "id": "4b55f609",
   "metadata": {},
   "outputs": [
    {
     "name": "stdout",
     "output_type": "stream",
     "text": [
      "Shape of the data: (426880, 26)\n"
     ]
    }
   ],
   "source": [
    "print('Shape of the data:', df.shape)"
   ]
  },
  {
   "cell_type": "code",
   "execution_count": 3,
   "id": "62c8df5c",
   "metadata": {},
   "outputs": [
    {
     "name": "stdout",
     "output_type": "stream",
     "text": [
      "<class 'pandas.core.frame.DataFrame'>\n",
      "RangeIndex: 426880 entries, 0 to 426879\n",
      "Data columns (total 26 columns):\n",
      " #   Column        Non-Null Count   Dtype  \n",
      "---  ------        --------------   -----  \n",
      " 0   id            426880 non-null  int64  \n",
      " 1   url           426880 non-null  object \n",
      " 2   region        426880 non-null  object \n",
      " 3   region_url    426880 non-null  object \n",
      " 4   price         426880 non-null  int64  \n",
      " 5   year          425675 non-null  float64\n",
      " 6   manufacturer  409234 non-null  object \n",
      " 7   model         421603 non-null  object \n",
      " 8   condition     252776 non-null  object \n",
      " 9   cylinders     249202 non-null  object \n",
      " 10  fuel          423867 non-null  object \n",
      " 11  odometer      422480 non-null  float64\n",
      " 12  title_status  418638 non-null  object \n",
      " 13  transmission  424324 non-null  object \n",
      " 14  VIN           265838 non-null  object \n",
      " 15  drive         296313 non-null  object \n",
      " 16  size          120519 non-null  object \n",
      " 17  type          334022 non-null  object \n",
      " 18  paint_color   296677 non-null  object \n",
      " 19  image_url     426812 non-null  object \n",
      " 20  description   426810 non-null  object \n",
      " 21  county        0 non-null       float64\n",
      " 22  state         426880 non-null  object \n",
      " 23  lat           420331 non-null  float64\n",
      " 24  long          420331 non-null  float64\n",
      " 25  posting_date  426812 non-null  object \n",
      "dtypes: float64(5), int64(2), object(19)\n",
      "memory usage: 84.7+ MB\n"
     ]
    }
   ],
   "source": [
    "# info about data \n",
    "df.info()"
   ]
  },
  {
   "cell_type": "code",
   "execution_count": null,
   "id": "cf4982ae",
   "metadata": {},
   "outputs": [],
   "source": [
    "#numeric statistics \n",
    "df.describe()"
   ]
  },
  {
   "cell_type": "code",
   "execution_count": null,
   "id": "55493cb9",
   "metadata": {},
   "outputs": [],
   "source": [
    "# check for missing values \n",
    "df.isnull().sum()"
   ]
  },
  {
   "cell_type": "code",
   "execution_count": null,
   "id": "e6048731",
   "metadata": {},
   "outputs": [],
   "source": [
    "#check for duplicates \n",
    "df.duplicated().sum()"
   ]
  },
  {
   "cell_type": "markdown",
   "id": "d6cf3a10",
   "metadata": {},
   "source": [
    "### Cleaning the data"
   ]
  },
  {
   "cell_type": "code",
   "execution_count": 21,
   "id": "bd839038",
   "metadata": {},
   "outputs": [
    {
     "name": "stdout",
     "output_type": "stream",
     "text": [
      "<class 'pandas.core.frame.DataFrame'>\n",
      "RangeIndex: 426880 entries, 0 to 426879\n",
      "Data columns (total 26 columns):\n",
      " #   Column        Non-Null Count   Dtype   \n",
      "---  ------        --------------   -----   \n",
      " 0   id            426880 non-null  int64   \n",
      " 1   url           426880 non-null  category\n",
      " 2   region        426880 non-null  category\n",
      " 3   region_url    426880 non-null  category\n",
      " 4   price         426880 non-null  int64   \n",
      " 5   year          425675 non-null  float64 \n",
      " 6   manufacturer  409234 non-null  category\n",
      " 7   model         421603 non-null  category\n",
      " 8   condition     252776 non-null  category\n",
      " 9   cylinders     249202 non-null  category\n",
      " 10  fuel          423867 non-null  category\n",
      " 11  odometer      422480 non-null  float64 \n",
      " 12  title_status  418638 non-null  category\n",
      " 13  transmission  424324 non-null  category\n",
      " 14  VIN           265838 non-null  category\n",
      " 15  drive         296313 non-null  category\n",
      " 16  size          120519 non-null  category\n",
      " 17  type          334022 non-null  category\n",
      " 18  paint_color   296677 non-null  category\n",
      " 19  image_url     426812 non-null  category\n",
      " 20  description   426810 non-null  category\n",
      " 21  county        0 non-null       float64 \n",
      " 22  state         426880 non-null  category\n",
      " 23  lat           420331 non-null  float64 \n",
      " 24  long          420331 non-null  float64 \n",
      " 25  posting_date  426812 non-null  category\n",
      "dtypes: category(19), float64(5), int64(2)\n",
      "memory usage: 95.2 MB\n"
     ]
    }
   ],
   "source": [
    "# convert object columns to category \n",
    "\n",
    "for col in df.columns: \n",
    "    if df[col].dtype == 'object': \n",
    "        df[col] = df[col].astype('category')\n",
    "\n",
    "df.info()\n",
    "    "
   ]
  },
  {
   "cell_type": "code",
   "execution_count": 22,
   "id": "b0a694ba",
   "metadata": {},
   "outputs": [
    {
     "name": "stdout",
     "output_type": "stream",
     "text": [
      "Max and min price of the cars: Max=3736928711 - Min=0\n",
      "Shape of the data: (426880, 26)\n"
     ]
    }
   ],
   "source": [
    "# check the max and min price of the cars\n",
    "\n",
    "print(f\"Max and min price of the cars: Max={df['price'].max()} - Min={df['price'].min()}\" )\n",
    "print(\"Shape of the data:\", df.shape) "
   ]
  },
  {
   "cell_type": "code",
   "execution_count": 24,
   "id": "29ac964b",
   "metadata": {},
   "outputs": [
    {
     "name": "stdout",
     "output_type": "stream",
     "text": [
      "New max and min price of the cars: Max=100000 - Min=1000\n",
      "New shape of the data: (379910, 26)\n"
     ]
    }
   ],
   "source": [
    "# Cleaning the data, we will remove the outliers from the price column, and select only the cars with a price between 1000 and 100000\n",
    "\n",
    "df = CleanerData.remove_outliers_with_min_max(df, 'price', 1000, 100000)\n",
    "\n",
    "print(f\"New max and min price of the cars: Max={df['price'].max()} - Min={df['price'].min()}\" )\n",
    "print(\"New shape of the data:\", df.shape) "
   ]
  },
  {
   "cell_type": "code",
   "execution_count": 26,
   "id": "bc07731c",
   "metadata": {},
   "outputs": [
    {
     "name": "stdout",
     "output_type": "stream",
     "text": [
      "Nan values in the year column: 1164\n"
     ]
    }
   ],
   "source": [
    "# Check the year of the cars, we will remove the outliers from the year column, and select only the cars with a year between 2000 and 2023 \n",
    "\n",
    "#check nan values in the year column \n",
    "print(\"Nan values in the year column:\", df['year'].isnull().sum())"
   ]
  },
  {
   "cell_type": "code",
   "execution_count": 29,
   "id": "05973255",
   "metadata": {},
   "outputs": [
    {
     "name": "stdout",
     "output_type": "stream",
     "text": [
      "Nan values in the year column: 0\n",
      "New shape of the data: (355127, 26)\n"
     ]
    }
   ],
   "source": [
    "# Select only the cars with a year bigger than 2000 \n",
    "\n",
    "df = CleanerData.remove_outliers_with_min_max(df, 'year', 2000, 2025)\n",
    "\n",
    "print(\"Nan values in the year column:\", df['year'].isnull().sum())\n",
    "print(\"New shape of the data:\", df.shape) "
   ]
  },
  {
   "cell_type": "code",
   "execution_count": 28,
   "id": "60b4b1be",
   "metadata": {},
   "outputs": [
    {
     "data": {
      "text/plain": [
       "dtype('int64')"
      ]
     },
     "execution_count": 28,
     "metadata": {},
     "output_type": "execute_result"
    }
   ],
   "source": [
    "# Convert the year column to int \n",
    "df['year'] = df['year'].astype('int')\n",
    "\n",
    "df['year'].dtype"
   ]
  },
  {
   "cell_type": "code",
   "execution_count": 30,
   "id": "12cb45b2",
   "metadata": {},
   "outputs": [
    {
     "name": "stdout",
     "output_type": "stream",
     "text": [
      "Nan values in the year column: 1959\n"
     ]
    }
   ],
   "source": [
    "# The odometer column is important for the analyzis and sales, we will remove the outliers from the odometer column. \n",
    "\n",
    "# check nan values in the odometer column \n",
    "print(\"Nan values in the year column:\", df['odometer'].isnull().sum())"
   ]
  },
  {
   "cell_type": "code",
   "execution_count": 31,
   "id": "e8b20be2",
   "metadata": {},
   "outputs": [
    {
     "name": "stdout",
     "output_type": "stream",
     "text": [
      "Nan values in the odometer column: 0\n",
      "New shape of the data: (353168, 26)\n"
     ]
    }
   ],
   "source": [
    "# Remove nan values from the odometer column \n",
    "df = df[df['odometer'].notna()]\n",
    "\n",
    "print(\"Nan values in the odometer column:\", df['odometer'].isnull().sum())\n",
    "print(\"New shape of the data:\", df.shape) "
   ]
  },
  {
   "cell_type": "code",
   "execution_count": 36,
   "id": "13891717",
   "metadata": {},
   "outputs": [
    {
     "name": "stdout",
     "output_type": "stream",
     "text": [
      "Max and min odometer of the cars: Max=10000000.0 - Min=0.0\n"
     ]
    }
   ],
   "source": [
    "#Check the max and min odometer of the cars \n",
    "print(f\"Max and min odometer of the cars: Max={df['odometer'].max()} - Min={df['odometer'].min()}\" )"
   ]
  },
  {
   "cell_type": "code",
   "execution_count": 37,
   "id": "b737c74b",
   "metadata": {},
   "outputs": [
    {
     "name": "stdout",
     "output_type": "stream",
     "text": [
      "Mean odometer of the cars: 94534.01353180356\n",
      "Median odometer of the cars: 87000.0\n"
     ]
    }
   ],
   "source": [
    "# check mean and median odometer of the cars \n",
    "print(\"Mean odometer of the cars:\", df['odometer'].mean())\n",
    "print(\"Median odometer of the cars:\", df['odometer'].median())"
   ]
  },
  {
   "cell_type": "code",
   "execution_count": 39,
   "id": "d96ac976",
   "metadata": {},
   "outputs": [
    {
     "name": "stdout",
     "output_type": "stream",
     "text": [
      "Nan values in the data: id                   0\n",
      "url                  0\n",
      "region               0\n",
      "region_url           0\n",
      "price                0\n",
      "year                 0\n",
      "manufacturer     10637\n",
      "model             2946\n",
      "condition       134999\n",
      "cylinders       147019\n",
      "fuel              2070\n",
      "odometer             0\n",
      "title_status      5956\n",
      "transmission      1485\n",
      "VIN             125722\n",
      "drive           106647\n",
      "size            256682\n",
      "type             71759\n",
      "paint_color      99831\n",
      "image_url            0\n",
      "description          2\n",
      "county          353168\n",
      "state                0\n",
      "lat               3319\n",
      "long              3319\n",
      "posting_date         0\n",
      "dtype: int64\n"
     ]
    }
   ],
   "source": [
    "# we'll check if other columns have Nan values \n",
    "\n",
    "print(\"Nan values in the data:\", df.isnull().sum())"
   ]
  },
  {
   "cell_type": "code",
   "execution_count": 41,
   "id": "bbed2bd6",
   "metadata": {},
   "outputs": [
    {
     "ename": "KeyError",
     "evalue": "\"['id', 'url', 'region', 'region_url', 'image_url', 'description', 'county', 'state', 'posting_date'] not found in axis\"",
     "output_type": "error",
     "traceback": [
      "\u001b[31m---------------------------------------------------------------------------\u001b[39m",
      "\u001b[31mKeyError\u001b[39m                                  Traceback (most recent call last)",
      "\u001b[36mCell\u001b[39m\u001b[36m \u001b[39m\u001b[32mIn[41]\u001b[39m\u001b[32m, line 2\u001b[39m\n\u001b[32m      1\u001b[39m \u001b[38;5;66;03m# we still have a lot of columns with nan values, initially let's drop not important columns \u001b[39;00m\n\u001b[32m----> \u001b[39m\u001b[32m2\u001b[39m df = \u001b[43mdf\u001b[49m\u001b[43m.\u001b[49m\u001b[43mdrop\u001b[49m\u001b[43m(\u001b[49m\u001b[43mcolumns\u001b[49m\u001b[43m=\u001b[49m\u001b[43m[\u001b[49m\u001b[33;43m'\u001b[39;49m\u001b[33;43mid\u001b[39;49m\u001b[33;43m'\u001b[39;49m\u001b[43m,\u001b[49m\u001b[43m \u001b[49m\u001b[33;43m'\u001b[39;49m\u001b[33;43murl\u001b[39;49m\u001b[33;43m'\u001b[39;49m\u001b[43m,\u001b[49m\u001b[43m \u001b[49m\u001b[33;43m'\u001b[39;49m\u001b[33;43mregion\u001b[39;49m\u001b[33;43m'\u001b[39;49m\u001b[43m,\u001b[49m\u001b[43m \u001b[49m\u001b[33;43m'\u001b[39;49m\u001b[33;43mregion_url\u001b[39;49m\u001b[33;43m'\u001b[39;49m\u001b[43m,\u001b[49m\u001b[43m \u001b[49m\u001b[33;43m'\u001b[39;49m\u001b[33;43mimage_url\u001b[39;49m\u001b[33;43m'\u001b[39;49m\u001b[43m,\u001b[49m\u001b[43m \u001b[49m\u001b[33;43m'\u001b[39;49m\u001b[33;43mdescription\u001b[39;49m\u001b[33;43m'\u001b[39;49m\u001b[43m,\u001b[49m\u001b[43m \u001b[49m\u001b[33;43m'\u001b[39;49m\u001b[33;43mcounty\u001b[39;49m\u001b[33;43m'\u001b[39;49m\u001b[43m,\u001b[49m\u001b[43m \u001b[49m\u001b[33;43m'\u001b[39;49m\u001b[33;43mstate\u001b[39;49m\u001b[33;43m'\u001b[39;49m\u001b[43m,\u001b[49m\u001b[43m \u001b[49m\u001b[33;43m'\u001b[39;49m\u001b[33;43mposting_date\u001b[39;49m\u001b[33;43m'\u001b[39;49m\u001b[43m,\u001b[49m\u001b[43m \u001b[49m\u001b[33;43m'\u001b[39;49m\u001b[33;43mVIN\u001b[39;49m\u001b[33;43m'\u001b[39;49m\u001b[43m]\u001b[49m\u001b[43m)\u001b[49m\n\u001b[32m      4\u001b[39m df.head()\n",
      "\u001b[36mFile \u001b[39m\u001b[32mc:\\Users\\luizh\\Documents\\projects\\ai-projects\\used-car-price-predictor\\venv\\Lib\\site-packages\\pandas\\core\\frame.py:5581\u001b[39m, in \u001b[36mDataFrame.drop\u001b[39m\u001b[34m(self, labels, axis, index, columns, level, inplace, errors)\u001b[39m\n\u001b[32m   5433\u001b[39m \u001b[38;5;28;01mdef\u001b[39;00m\u001b[38;5;250m \u001b[39m\u001b[34mdrop\u001b[39m(\n\u001b[32m   5434\u001b[39m     \u001b[38;5;28mself\u001b[39m,\n\u001b[32m   5435\u001b[39m     labels: IndexLabel | \u001b[38;5;28;01mNone\u001b[39;00m = \u001b[38;5;28;01mNone\u001b[39;00m,\n\u001b[32m   (...)\u001b[39m\u001b[32m   5442\u001b[39m     errors: IgnoreRaise = \u001b[33m\"\u001b[39m\u001b[33mraise\u001b[39m\u001b[33m\"\u001b[39m,\n\u001b[32m   5443\u001b[39m ) -> DataFrame | \u001b[38;5;28;01mNone\u001b[39;00m:\n\u001b[32m   5444\u001b[39m \u001b[38;5;250m    \u001b[39m\u001b[33;03m\"\"\"\u001b[39;00m\n\u001b[32m   5445\u001b[39m \u001b[33;03m    Drop specified labels from rows or columns.\u001b[39;00m\n\u001b[32m   5446\u001b[39m \n\u001b[32m   (...)\u001b[39m\u001b[32m   5579\u001b[39m \u001b[33;03m            weight  1.0     0.8\u001b[39;00m\n\u001b[32m   5580\u001b[39m \u001b[33;03m    \"\"\"\u001b[39;00m\n\u001b[32m-> \u001b[39m\u001b[32m5581\u001b[39m     \u001b[38;5;28;01mreturn\u001b[39;00m \u001b[38;5;28;43msuper\u001b[39;49m\u001b[43m(\u001b[49m\u001b[43m)\u001b[49m\u001b[43m.\u001b[49m\u001b[43mdrop\u001b[49m\u001b[43m(\u001b[49m\n\u001b[32m   5582\u001b[39m \u001b[43m        \u001b[49m\u001b[43mlabels\u001b[49m\u001b[43m=\u001b[49m\u001b[43mlabels\u001b[49m\u001b[43m,\u001b[49m\n\u001b[32m   5583\u001b[39m \u001b[43m        \u001b[49m\u001b[43maxis\u001b[49m\u001b[43m=\u001b[49m\u001b[43maxis\u001b[49m\u001b[43m,\u001b[49m\n\u001b[32m   5584\u001b[39m \u001b[43m        \u001b[49m\u001b[43mindex\u001b[49m\u001b[43m=\u001b[49m\u001b[43mindex\u001b[49m\u001b[43m,\u001b[49m\n\u001b[32m   5585\u001b[39m \u001b[43m        \u001b[49m\u001b[43mcolumns\u001b[49m\u001b[43m=\u001b[49m\u001b[43mcolumns\u001b[49m\u001b[43m,\u001b[49m\n\u001b[32m   5586\u001b[39m \u001b[43m        \u001b[49m\u001b[43mlevel\u001b[49m\u001b[43m=\u001b[49m\u001b[43mlevel\u001b[49m\u001b[43m,\u001b[49m\n\u001b[32m   5587\u001b[39m \u001b[43m        \u001b[49m\u001b[43minplace\u001b[49m\u001b[43m=\u001b[49m\u001b[43minplace\u001b[49m\u001b[43m,\u001b[49m\n\u001b[32m   5588\u001b[39m \u001b[43m        \u001b[49m\u001b[43merrors\u001b[49m\u001b[43m=\u001b[49m\u001b[43merrors\u001b[49m\u001b[43m,\u001b[49m\n\u001b[32m   5589\u001b[39m \u001b[43m    \u001b[49m\u001b[43m)\u001b[49m\n",
      "\u001b[36mFile \u001b[39m\u001b[32mc:\\Users\\luizh\\Documents\\projects\\ai-projects\\used-car-price-predictor\\venv\\Lib\\site-packages\\pandas\\core\\generic.py:4788\u001b[39m, in \u001b[36mNDFrame.drop\u001b[39m\u001b[34m(self, labels, axis, index, columns, level, inplace, errors)\u001b[39m\n\u001b[32m   4786\u001b[39m \u001b[38;5;28;01mfor\u001b[39;00m axis, labels \u001b[38;5;129;01min\u001b[39;00m axes.items():\n\u001b[32m   4787\u001b[39m     \u001b[38;5;28;01mif\u001b[39;00m labels \u001b[38;5;129;01mis\u001b[39;00m \u001b[38;5;129;01mnot\u001b[39;00m \u001b[38;5;28;01mNone\u001b[39;00m:\n\u001b[32m-> \u001b[39m\u001b[32m4788\u001b[39m         obj = \u001b[43mobj\u001b[49m\u001b[43m.\u001b[49m\u001b[43m_drop_axis\u001b[49m\u001b[43m(\u001b[49m\u001b[43mlabels\u001b[49m\u001b[43m,\u001b[49m\u001b[43m \u001b[49m\u001b[43maxis\u001b[49m\u001b[43m,\u001b[49m\u001b[43m \u001b[49m\u001b[43mlevel\u001b[49m\u001b[43m=\u001b[49m\u001b[43mlevel\u001b[49m\u001b[43m,\u001b[49m\u001b[43m \u001b[49m\u001b[43merrors\u001b[49m\u001b[43m=\u001b[49m\u001b[43merrors\u001b[49m\u001b[43m)\u001b[49m\n\u001b[32m   4790\u001b[39m \u001b[38;5;28;01mif\u001b[39;00m inplace:\n\u001b[32m   4791\u001b[39m     \u001b[38;5;28mself\u001b[39m._update_inplace(obj)\n",
      "\u001b[36mFile \u001b[39m\u001b[32mc:\\Users\\luizh\\Documents\\projects\\ai-projects\\used-car-price-predictor\\venv\\Lib\\site-packages\\pandas\\core\\generic.py:4830\u001b[39m, in \u001b[36mNDFrame._drop_axis\u001b[39m\u001b[34m(self, labels, axis, level, errors, only_slice)\u001b[39m\n\u001b[32m   4828\u001b[39m         new_axis = axis.drop(labels, level=level, errors=errors)\n\u001b[32m   4829\u001b[39m     \u001b[38;5;28;01melse\u001b[39;00m:\n\u001b[32m-> \u001b[39m\u001b[32m4830\u001b[39m         new_axis = \u001b[43maxis\u001b[49m\u001b[43m.\u001b[49m\u001b[43mdrop\u001b[49m\u001b[43m(\u001b[49m\u001b[43mlabels\u001b[49m\u001b[43m,\u001b[49m\u001b[43m \u001b[49m\u001b[43merrors\u001b[49m\u001b[43m=\u001b[49m\u001b[43merrors\u001b[49m\u001b[43m)\u001b[49m\n\u001b[32m   4831\u001b[39m     indexer = axis.get_indexer(new_axis)\n\u001b[32m   4833\u001b[39m \u001b[38;5;66;03m# Case for non-unique axis\u001b[39;00m\n\u001b[32m   4834\u001b[39m \u001b[38;5;28;01melse\u001b[39;00m:\n",
      "\u001b[36mFile \u001b[39m\u001b[32mc:\\Users\\luizh\\Documents\\projects\\ai-projects\\used-car-price-predictor\\venv\\Lib\\site-packages\\pandas\\core\\indexes\\base.py:7070\u001b[39m, in \u001b[36mIndex.drop\u001b[39m\u001b[34m(self, labels, errors)\u001b[39m\n\u001b[32m   7068\u001b[39m \u001b[38;5;28;01mif\u001b[39;00m mask.any():\n\u001b[32m   7069\u001b[39m     \u001b[38;5;28;01mif\u001b[39;00m errors != \u001b[33m\"\u001b[39m\u001b[33mignore\u001b[39m\u001b[33m\"\u001b[39m:\n\u001b[32m-> \u001b[39m\u001b[32m7070\u001b[39m         \u001b[38;5;28;01mraise\u001b[39;00m \u001b[38;5;167;01mKeyError\u001b[39;00m(\u001b[33mf\u001b[39m\u001b[33m\"\u001b[39m\u001b[38;5;132;01m{\u001b[39;00mlabels[mask].tolist()\u001b[38;5;132;01m}\u001b[39;00m\u001b[33m not found in axis\u001b[39m\u001b[33m\"\u001b[39m)\n\u001b[32m   7071\u001b[39m     indexer = indexer[~mask]\n\u001b[32m   7072\u001b[39m \u001b[38;5;28;01mreturn\u001b[39;00m \u001b[38;5;28mself\u001b[39m.delete(indexer)\n",
      "\u001b[31mKeyError\u001b[39m: \"['id', 'url', 'region', 'region_url', 'image_url', 'description', 'county', 'state', 'posting_date'] not found in axis\""
     ]
    }
   ],
   "source": [
    "# we still have a lot of columns with nan values, initially let's drop not important columns \n",
    "df = df.drop(columns=['id', 'url', 'region', 'region_url', 'image_url', 'description', 'county', 'state', 'posting_date', 'VIN'])\n",
    "\n",
    "df.head()"
   ]
  },
  {
   "cell_type": "code",
   "execution_count": null,
   "id": "cb90f817",
   "metadata": {},
   "outputs": [],
   "source": [
    "plt.figure(figsize=(12,6))\n",
    "sns.histplot(df['price'], bins=80, kde=True)\n",
    "plt.title('Distribution of Car Prices')\n",
    "plt.xlabel('Price (USD)')\n",
    "plt.ylabel('Frequency')\n",
    "plt.show()"
   ]
  },
  {
   "cell_type": "code",
   "execution_count": null,
   "id": "f5634fb0",
   "metadata": {},
   "outputs": [],
   "source": [
    "plt.figure(figsize=(12,6))\n",
    "sns.histplot(df['year'], bins=80, kde=True)\n",
    "plt.title('Distribution of Car Years')\n",
    "plt.xlabel('Year')\n",
    "plt.ylabel('Quantity')\n",
    "plt.xticks(rotation=45) \n",
    "plt.show()"
   ]
  },
  {
   "cell_type": "code",
   "execution_count": null,
   "id": "d19778ab",
   "metadata": {},
   "outputs": [],
   "source": [
    "#Check the price mean by year \n",
    "df.groupby('year')['price'].mean().plot(kind='line', figsize=(12,6))\n",
    "plt.title('Mean Price by Year') \n",
    "plt.xlabel('Year')\n",
    "plt.ylabel('Mean Price (USD)') \n",
    "plt.grid(True)\n",
    "plt.show()"
   ]
  },
  {
   "cell_type": "markdown",
   "id": "5c22af50",
   "metadata": {},
   "source": [
    "- The graphic shows that the mean price of cars has been increasing over the years, which is expected as newer cars tend to be more expensive. "
   ]
  },
  {
   "cell_type": "code",
   "execution_count": null,
   "id": "6c51fed4",
   "metadata": {},
   "outputs": [],
   "source": [
    "#check the distribution of the car mileage \n",
    "df['odometer'].describe()"
   ]
  },
  {
   "cell_type": "code",
   "execution_count": null,
   "id": "97dc5878",
   "metadata": {},
   "outputs": [],
   "source": [
    "#Check the max and min mileage of the cars \n",
    "df['odometer'].max(), df['odometer'].min()"
   ]
  },
  {
   "cell_type": "code",
   "execution_count": null,
   "id": "4be4e4c5",
   "metadata": {},
   "outputs": [],
   "source": [
    "#Let's remove the outliers from the mileage column, we will select only the cars with a mileage between 10000 and 500000\n",
    "df = df[(df['odometer'] > 10000) & (df['odometer'] < 500000)] \n",
    "\n",
    "df['odometer'].describe() "
   ]
  },
  {
   "cell_type": "code",
   "execution_count": null,
   "id": "13b4ba8f",
   "metadata": {},
   "outputs": [],
   "source": [
    "#Let's see how the mileage affects the price of the cars.\n",
    "\n",
    "df['odometer_bin'] = pd.cut(df['odometer'], bins=10, labels=False)\n",
    "\n",
    "df.groupby('odometer_bin')['price'].mean().plot(kind='bar', figsize=(12,6))\n",
    "plt.title('Mean Price by Mileage Bin')\n",
    "plt.xlabel('Mileage Bin')\n",
    "plt.ylabel('Mean Price (USD)')\n",
    "plt.xticks(rotation=45)\n",
    "plt.grid(True)\n",
    "plt.show()"
   ]
  },
  {
   "cell_type": "code",
   "execution_count": null,
   "id": "dbe99957",
   "metadata": {},
   "outputs": [],
   "source": [
    "df['odometer_bin'].value_counts().sort_index()"
   ]
  },
  {
   "cell_type": "code",
   "execution_count": null,
   "id": "c82421c4",
   "metadata": {},
   "outputs": [],
   "source": [
    "plt.figure(figsize=(14,6))\n",
    "sns.boxplot(x='odometer_bin', y='price', data=df)\n",
    "plt.title('Distribuição de Preços por Faixa de Quilometragem')\n",
    "plt.xlabel('Faixa de Quilometragem')\n",
    "plt.ylabel('Preço (USD)')\n",
    "plt.xticks(rotation=45)\n",
    "plt.grid(True)\n",
    "plt.show()\n"
   ]
  },
  {
   "cell_type": "code",
   "execution_count": null,
   "id": "cd2c1835",
   "metadata": {},
   "outputs": [],
   "source": [
    "df['manufacturer'].value_counts().head(10).plot(kind='bar', figsize=(12,6))\n",
    "plt.title('Top 10 Car Manufacturers')\n",
    "plt.xlabel('Manufacturer')\n",
    "plt.ylabel('Count')\n",
    "plt.xticks(rotation=45)\n",
    "plt.grid(True)\n",
    "plt.show()"
   ]
  },
  {
   "cell_type": "code",
   "execution_count": null,
   "id": "b8905fed",
   "metadata": {},
   "outputs": [],
   "source": [
    "#visualize the mean price by main manufacturers\n",
    "main_manufacturers = df['manufacturer'].value_counts().head(10).index.tolist() \n",
    "\n",
    "df_top = df[df['manufacturer'].isin(main_manufacturers)] \n",
    "df_top.groupby('manufacturer')['price'].mean().sort_values(ascending=False).plot(kind='bar', figsize=(12,6))\n",
    "plt.title('Mean Price by Top Manufacturer')\n",
    "plt.xlabel('Manufacturer')\n",
    "plt.ylabel('Mean Price (USD)')\n",
    "plt.xticks(rotation=45)\n",
    "plt.grid(True)\n",
    "plt.plot()"
   ]
  },
  {
   "cell_type": "code",
   "execution_count": null,
   "id": "b1646283",
   "metadata": {},
   "outputs": [],
   "source": [
    "#Check the condition of the cars \n",
    "df['condition'].value_counts().plot(kind='bar', figsize=(12,6)) \n"
   ]
  },
  {
   "cell_type": "code",
   "execution_count": null,
   "id": "d6fc7699",
   "metadata": {},
   "outputs": [],
   "source": [
    "#Check relation between condition and price \n",
    "df.groupby('condition')['price'].mean().sort_values(ascending=False).plot(kind='bar', figsize=(12,6)) \n",
    "plt.title('Mean Price by Condition') \n",
    "plt.xlabel('Condition') \n",
    "plt.ylabel('Mean Price (USD)') \n",
    "plt.xticks(rotation=45) \n",
    "plt.grid(True) \n",
    "plt.show() "
   ]
  },
  {
   "cell_type": "markdown",
   "id": "820c9a98",
   "metadata": {},
   "source": [
    "- The graphic below show that the condition of the car influences the price of the car, but not as much as the mileage and year. "
   ]
  },
  {
   "cell_type": "code",
   "execution_count": null,
   "id": "35f7bb05",
   "metadata": {},
   "outputs": [],
   "source": [
    "#Check the fuel \n",
    "df['fuel'].value_counts().plot(kind='bar', figsize=(12,6))\n",
    "plt.title('Fuel Types Count')\n",
    "plt.xlabel('Fuel Type')\n",
    "plt.ylabel('Count')\n",
    "plt.xticks(rotation=45)\n",
    "plt.grid(True)\n",
    "plt.show()\n"
   ]
  },
  {
   "cell_type": "code",
   "execution_count": null,
   "id": "1e73ffc2",
   "metadata": {},
   "outputs": [],
   "source": [
    "df.groupby('fuel')['price'].mean().sort_values(ascending=False).plot(kind='bar', figsize=(12,6)) \n",
    "plt.title('Fuel Types Mean Price')\n",
    "plt.xlabel('Fuel Type')\n",
    "plt.ylabel('Mean Price (USD)')\n",
    "plt.xticks(rotation=45)\n",
    "plt.grid(True)\n",
    "plt.show()"
   ]
  },
  {
   "cell_type": "code",
   "execution_count": null,
   "id": "cbb98464",
   "metadata": {},
   "outputs": [],
   "source": [
    "df.groupby('type')['price'].mean().sort_values(ascending=False).plot(kind='bar', figsize=(12,6))\n",
    "plt.title('Car Type Mean Price')\n",
    "plt.xlabel('Car Type')\n",
    "plt.ylabel('Mean Price (USD)')\n",
    "plt.xticks(rotation=45)\n",
    "plt.grid(True)\n",
    "plt.show()"
   ]
  },
  {
   "cell_type": "code",
   "execution_count": null,
   "id": "28fa6bf3",
   "metadata": {},
   "outputs": [],
   "source": [
    "df.corr"
   ]
  },
  {
   "cell_type": "code",
   "execution_count": null,
   "id": "7d2b4ca6",
   "metadata": {},
   "outputs": [],
   "source": [
    "df.dtypes"
   ]
  },
  {
   "cell_type": "code",
   "execution_count": null,
   "id": "c8d37a11",
   "metadata": {},
   "outputs": [],
   "source": [
    "numeric_cols = df.select_dtypes(include=['int64', 'float64']).columns.tolist()\n",
    "\n",
    "df_numeric = df[numeric_cols] \n",
    "\n",
    "plt.figure(figsize=(12,8)) \n",
    "sns.heatmap(df_numeric.corr(), annot=True, cmap='coolwarm', fmt='.2f')\n",
    "plt.title('Correlation Heatmap')\n",
    "plt.show()"
   ]
  }
 ],
 "metadata": {
  "kernelspec": {
   "display_name": "venv",
   "language": "python",
   "name": "python3"
  },
  "language_info": {
   "codemirror_mode": {
    "name": "ipython",
    "version": 3
   },
   "file_extension": ".py",
   "mimetype": "text/x-python",
   "name": "python",
   "nbconvert_exporter": "python",
   "pygments_lexer": "ipython3",
   "version": "3.13.1"
  }
 },
 "nbformat": 4,
 "nbformat_minor": 5
}
